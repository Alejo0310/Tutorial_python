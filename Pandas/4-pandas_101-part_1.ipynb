{
 "cells": [
  {
   "cell_type": "markdown",
   "metadata": {},
   "source": [
    "# Pandas 101 (Part 1)"
   ]
  },
  {
   "cell_type": "markdown",
   "metadata": {},
   "source": [
    "***Author:*** Leandro Ariza (ariza.leandro@gmail.com)"
   ]
  },
  {
   "cell_type": "markdown",
   "metadata": {},
   "source": [
    "## 1. Introduction"
   ]
  },
  {
   "cell_type": "markdown",
   "metadata": {},
   "source": [
    "### 1.1. What is Pandas?"
   ]
  },
  {
   "cell_type": "markdown",
   "metadata": {},
   "source": [
    "- Pandas is a (newer) package built on top of NumPy\n",
    "- Implements powerful data operations familiar to users of both database frameworks and spreadsheet programs.\n",
    "- Provides efficient tools for \"data munging\" tasks that occupy much of a data scientist's time.\n",
    "- Provides an efficient object for data-storage: `DataFrame`.\n",
    "- About DataFrames:\n",
    "    - Multidimensional arrays with attached row and column labels\n",
    "    - Support heterogeneous types and/or missing data."
   ]
  },
  {
   "cell_type": "markdown",
   "metadata": {},
   "source": [
    "### 1.2. Why use Pandas for data manipulation?"
   ]
  },
  {
   "cell_type": "markdown",
   "metadata": {},
   "source": [
    "- Pandas simplifies data manipulation tasks such as cleaning, transforming, and analyzing data.\n",
    "- It provides two primary data structures: Series and DataFrame, which are highly versatile for handling one-dimensional and two-dimensional data, respectively.\n",
    "- Pandas offers a wide range of functions and methods for data manipulation, including data cleaning, selection, aggregation, and visualization.\n",
    "- It integrates seamlessly with other Python libraries like NumPy, Matplotlib, and scikit-learn, making it a preferred choice for data analysis projects."
   ]
  },
  {
   "cell_type": "markdown",
   "metadata": {},
   "source": [
    "## 2. Getting Started with Pandas"
   ]
  },
  {
   "cell_type": "markdown",
   "metadata": {},
   "source": [
    "### 2.1. Installing Pandas"
   ]
  },
  {
   "cell_type": "markdown",
   "metadata": {},
   "source": [
    "Before using Pandas, you need to install it. You can install Pandas using `pip`, the Python package manager, by running the following command in your terminal or command prompt:\n",
    "\n",
    "```bash\n",
    "pip install pandas\n",
    "````"
   ]
  },
  {
   "cell_type": "code",
   "execution_count": 3,
   "metadata": {},
   "outputs": [
    {
     "name": "stdout",
     "output_type": "stream",
     "text": [
      "Collecting pandas\n",
      "  Downloading pandas-2.2.3-cp312-cp312-win_amd64.whl.metadata (19 kB)\n",
      "Collecting numpy>=1.26.0 (from pandas)\n",
      "  Downloading numpy-2.1.1-cp312-cp312-win_amd64.whl.metadata (59 kB)\n",
      "Requirement already satisfied: python-dateutil>=2.8.2 in c:\\users\\alejo\\appdata\\roaming\\python\\python312\\site-packages (from pandas) (2.9.0.post0)\n",
      "Collecting pytz>=2020.1 (from pandas)\n",
      "  Downloading pytz-2024.2-py2.py3-none-any.whl.metadata (22 kB)\n",
      "Collecting tzdata>=2022.7 (from pandas)\n",
      "  Downloading tzdata-2024.1-py2.py3-none-any.whl.metadata (1.4 kB)\n",
      "Requirement already satisfied: six>=1.5 in c:\\users\\alejo\\appdata\\roaming\\python\\python312\\site-packages (from python-dateutil>=2.8.2->pandas) (1.16.0)\n",
      "Downloading pandas-2.2.3-cp312-cp312-win_amd64.whl (11.5 MB)\n",
      "   ---------------------------------------- 0.0/11.5 MB ? eta -:--:--\n",
      "    --------------------------------------- 0.3/11.5 MB ? eta -:--:--\n",
      "   ------- -------------------------------- 2.1/11.5 MB 7.8 MB/s eta 0:00:02\n",
      "   ------------------------------ --------- 8.9/11.5 MB 18.5 MB/s eta 0:00:01\n",
      "   ---------------------------------------- 11.5/11.5 MB 19.5 MB/s eta 0:00:00\n",
      "Downloading numpy-2.1.1-cp312-cp312-win_amd64.whl (12.6 MB)\n",
      "   ---------------------------------------- 0.0/12.6 MB ? eta -:--:--\n",
      "   ------------------------- -------------- 7.9/12.6 MB 40.7 MB/s eta 0:00:01\n",
      "   ---------------------------------------- 12.6/12.6 MB 37.5 MB/s eta 0:00:00\n",
      "Downloading pytz-2024.2-py2.py3-none-any.whl (508 kB)\n",
      "Downloading tzdata-2024.1-py2.py3-none-any.whl (345 kB)\n",
      "Installing collected packages: pytz, tzdata, numpy, pandas\n",
      "Successfully installed numpy-2.1.1 pandas-2.2.3 pytz-2024.2 tzdata-2024.1\n"
     ]
    }
   ],
   "source": [
    "!pip install pandas"
   ]
  },
  {
   "cell_type": "markdown",
   "metadata": {},
   "source": [
    "### 2.2. Importing Pandas library"
   ]
  },
  {
   "cell_type": "markdown",
   "metadata": {},
   "source": [
    "Once installed, you can import the Pandas library into your Python environment using the following convention:\n",
    "\n",
    "```bash\n",
    "import pandas as pd\n",
    "```\n",
    "\n",
    "Here, `pd` is a commonly used alias for Pandas, which makes it easier to reference Pandas functions and objects in your code."
   ]
  },
  {
   "cell_type": "markdown",
   "metadata": {},
   "source": [
    "### 2.3. On Pandas data structures"
   ]
  },
  {
   "cell_type": "markdown",
   "metadata": {},
   "source": [
    "Pandas provides two main data structures for working with data:\n",
    "\n",
    "***Series***\n",
    "\n",
    "A one-dimensional array-like object that can hold any data type, such as integers, floats, strings, or even Python objects. It is similar to a NumPy array but with additional functionality and labeled indices.\n",
    "\n",
    "***DataFrame***\n",
    "\n",
    "A two-dimensional labeled data structure with columns of potentially different data types. It is akin to a spreadsheet or SQL table, where each column represents a different variable, and each row represents a different observation.\n",
    "\n",
    "Here's how you can create a `Series` and a `DataFrame`:"
   ]
  },
  {
   "cell_type": "code",
   "execution_count": 4,
   "metadata": {},
   "outputs": [
    {
     "data": {
      "text/plain": [
       "0      a\n",
       "1      b\n",
       "2      5\n",
       "3       \n",
       "4      -\n",
       "5    NaN\n",
       "dtype: object"
      ]
     },
     "execution_count": 4,
     "metadata": {},
     "output_type": "execute_result"
    }
   ],
   "source": [
    "# Creating a Series\n",
    "import pandas as pd\n",
    "import numpy as np\n",
    "\n",
    "s = pd.Series([\"a\", \"b\", \"5\", \"\", \"-\", np.nan])\n",
    "s"
   ]
  },
  {
   "cell_type": "code",
   "execution_count": 5,
   "metadata": {},
   "outputs": [
    {
     "data": {
      "text/html": [
       "<div>\n",
       "<style scoped>\n",
       "    .dataframe tbody tr th:only-of-type {\n",
       "        vertical-align: middle;\n",
       "    }\n",
       "\n",
       "    .dataframe tbody tr th {\n",
       "        vertical-align: top;\n",
       "    }\n",
       "\n",
       "    .dataframe thead th {\n",
       "        text-align: right;\n",
       "    }\n",
       "</style>\n",
       "<table border=\"1\" class=\"dataframe\">\n",
       "  <thead>\n",
       "    <tr style=\"text-align: right;\">\n",
       "      <th></th>\n",
       "      <th>Name</th>\n",
       "      <th>Age</th>\n",
       "      <th>City</th>\n",
       "    </tr>\n",
       "  </thead>\n",
       "  <tbody>\n",
       "    <tr>\n",
       "      <th>0</th>\n",
       "      <td>John</td>\n",
       "      <td>25</td>\n",
       "      <td>New York</td>\n",
       "    </tr>\n",
       "    <tr>\n",
       "      <th>1</th>\n",
       "      <td>Emily</td>\n",
       "      <td>30</td>\n",
       "      <td>Houston</td>\n",
       "    </tr>\n",
       "    <tr>\n",
       "      <th>2</th>\n",
       "      <td>Jack</td>\n",
       "      <td>35</td>\n",
       "      <td>Chicago</td>\n",
       "    </tr>\n",
       "    <tr>\n",
       "      <th>3</th>\n",
       "      <td>Sophia</td>\n",
       "      <td>40</td>\n",
       "      <td>Houston</td>\n",
       "    </tr>\n",
       "  </tbody>\n",
       "</table>\n",
       "</div>"
      ],
      "text/plain": [
       "     Name  Age      City\n",
       "0    John   25  New York\n",
       "1   Emily   30   Houston\n",
       "2    Jack   35   Chicago\n",
       "3  Sophia   40   Houston"
      ]
     },
     "execution_count": 5,
     "metadata": {},
     "output_type": "execute_result"
    }
   ],
   "source": [
    "# Creating a DataFrame\n",
    "# (All arrays must be of the same length)\n",
    "data = {'Name': ['John', 'Emily', 'Jack', 'Sophia'],\n",
    "        'Age': [25, 30, 35, 40],\n",
    "        'City': ['New York', 'Houston', 'Chicago', 'Houston']}\n",
    "df = pd.DataFrame(data)\n",
    "df"
   ]
  },
  {
   "cell_type": "markdown",
   "metadata": {},
   "source": [
    "In the above example, `s` is a `Series` containing integers, and `df` is a `DataFrame` containing information about individuals (Name, Age, and City):"
   ]
  },
  {
   "cell_type": "code",
   "execution_count": 4,
   "metadata": {},
   "outputs": [
    {
     "data": {
      "text/plain": [
       "pandas.core.series.Series"
      ]
     },
     "execution_count": 4,
     "metadata": {},
     "output_type": "execute_result"
    }
   ],
   "source": [
    "type(s)"
   ]
  },
  {
   "cell_type": "code",
   "execution_count": 6,
   "metadata": {},
   "outputs": [
    {
     "data": {
      "text/plain": [
       "pandas.core.frame.DataFrame"
      ]
     },
     "execution_count": 6,
     "metadata": {},
     "output_type": "execute_result"
    }
   ],
   "source": [
    "type(df)"
   ]
  },
  {
   "cell_type": "code",
   "execution_count": 7,
   "metadata": {},
   "outputs": [
    {
     "data": {
      "text/plain": [
       "Name    object\n",
       "Age      int64\n",
       "City    object\n",
       "dtype: object"
      ]
     },
     "execution_count": 7,
     "metadata": {},
     "output_type": "execute_result"
    }
   ],
   "source": [
    "df.dtypes"
   ]
  },
  {
   "cell_type": "markdown",
   "metadata": {},
   "source": [
    "### 2.4. Common Attributes for DataFrames and Series"
   ]
  },
  {
   "cell_type": "markdown",
   "metadata": {},
   "source": [
    "`shape`: Returns a tuple representing the dimensions of the DataFrame or Series (rows, columns). -->"
   ]
  },
  {
   "cell_type": "code",
   "execution_count": 8,
   "metadata": {},
   "outputs": [
    {
     "data": {
      "text/plain": [
       "(4, 3)"
      ]
     },
     "execution_count": 8,
     "metadata": {},
     "output_type": "execute_result"
    }
   ],
   "source": [
    "df.shape"
   ]
  },
  {
   "cell_type": "markdown",
   "metadata": {},
   "source": [
    "`index`: Returns the index (row labels) of the DataFrame or Series.\n"
   ]
  },
  {
   "cell_type": "code",
   "execution_count": 9,
   "metadata": {},
   "outputs": [
    {
     "data": {
      "text/plain": [
       "RangeIndex(start=0, stop=4, step=1)"
      ]
     },
     "execution_count": 9,
     "metadata": {},
     "output_type": "execute_result"
    }
   ],
   "source": [
    "df.index"
   ]
  },
  {
   "cell_type": "markdown",
   "metadata": {},
   "source": [
    "`columns`: Returns the column labels of the DataFrame.\n"
   ]
  },
  {
   "cell_type": "code",
   "execution_count": 10,
   "metadata": {},
   "outputs": [
    {
     "data": {
      "text/plain": [
       "Index(['Name', 'Age', 'City'], dtype='object')"
      ]
     },
     "execution_count": 10,
     "metadata": {},
     "output_type": "execute_result"
    }
   ],
   "source": [
    "df.columns"
   ]
  },
  {
   "cell_type": "markdown",
   "metadata": {},
   "source": [
    "`dtypes`: Returns the data types of each column in the DataFrame.\n"
   ]
  },
  {
   "cell_type": "code",
   "execution_count": 11,
   "metadata": {},
   "outputs": [
    {
     "data": {
      "text/plain": [
       "Name    object\n",
       "Age      int64\n",
       "City    object\n",
       "dtype: object"
      ]
     },
     "execution_count": 11,
     "metadata": {},
     "output_type": "execute_result"
    }
   ],
   "source": [
    "df.dtypes"
   ]
  },
  {
   "cell_type": "markdown",
   "metadata": {},
   "source": [
    "`values`: Returns the data contained in the DataFrame or Series as a NumPy array."
   ]
  },
  {
   "cell_type": "code",
   "execution_count": 12,
   "metadata": {},
   "outputs": [
    {
     "data": {
      "text/plain": [
       "array([['John', 25, 'New York'],\n",
       "       ['Emily', 30, 'Houston'],\n",
       "       ['Jack', 35, 'Chicago'],\n",
       "       ['Sophia', 40, 'Houston']], dtype=object)"
      ]
     },
     "execution_count": 12,
     "metadata": {},
     "output_type": "execute_result"
    }
   ],
   "source": [
    "df.values"
   ]
  },
  {
   "cell_type": "code",
   "execution_count": 13,
   "metadata": {},
   "outputs": [
    {
     "data": {
      "text/plain": [
       "array([25, 30, 35, 40], dtype=int64)"
      ]
     },
     "execution_count": 13,
     "metadata": {},
     "output_type": "execute_result"
    }
   ],
   "source": [
    "df.Age.values"
   ]
  },
  {
   "cell_type": "markdown",
   "metadata": {},
   "source": [
    "### 2.5. Common Methods for DataFrames and Series"
   ]
  },
  {
   "cell_type": "markdown",
   "metadata": {},
   "source": [
    "`head()`: Returns the first n rows of the DataFrame (by default, n=5).\n"
   ]
  },
  {
   "cell_type": "code",
   "execution_count": 14,
   "metadata": {},
   "outputs": [
    {
     "data": {
      "text/html": [
       "<div>\n",
       "<style scoped>\n",
       "    .dataframe tbody tr th:only-of-type {\n",
       "        vertical-align: middle;\n",
       "    }\n",
       "\n",
       "    .dataframe tbody tr th {\n",
       "        vertical-align: top;\n",
       "    }\n",
       "\n",
       "    .dataframe thead th {\n",
       "        text-align: right;\n",
       "    }\n",
       "</style>\n",
       "<table border=\"1\" class=\"dataframe\">\n",
       "  <thead>\n",
       "    <tr style=\"text-align: right;\">\n",
       "      <th></th>\n",
       "      <th>Name</th>\n",
       "      <th>Age</th>\n",
       "      <th>City</th>\n",
       "    </tr>\n",
       "  </thead>\n",
       "  <tbody>\n",
       "    <tr>\n",
       "      <th>0</th>\n",
       "      <td>John</td>\n",
       "      <td>25</td>\n",
       "      <td>New York</td>\n",
       "    </tr>\n",
       "    <tr>\n",
       "      <th>1</th>\n",
       "      <td>Emily</td>\n",
       "      <td>30</td>\n",
       "      <td>Houston</td>\n",
       "    </tr>\n",
       "    <tr>\n",
       "      <th>2</th>\n",
       "      <td>Jack</td>\n",
       "      <td>35</td>\n",
       "      <td>Chicago</td>\n",
       "    </tr>\n",
       "    <tr>\n",
       "      <th>3</th>\n",
       "      <td>Sophia</td>\n",
       "      <td>40</td>\n",
       "      <td>Houston</td>\n",
       "    </tr>\n",
       "  </tbody>\n",
       "</table>\n",
       "</div>"
      ],
      "text/plain": [
       "     Name  Age      City\n",
       "0    John   25  New York\n",
       "1   Emily   30   Houston\n",
       "2    Jack   35   Chicago\n",
       "3  Sophia   40   Houston"
      ]
     },
     "execution_count": 14,
     "metadata": {},
     "output_type": "execute_result"
    }
   ],
   "source": [
    "df.head()"
   ]
  },
  {
   "cell_type": "markdown",
   "metadata": {},
   "source": [
    "`tail()`: Returns the last n rows of the DataFrame (by default, n=5)."
   ]
  },
  {
   "cell_type": "code",
   "execution_count": 15,
   "metadata": {},
   "outputs": [
    {
     "data": {
      "text/html": [
       "<div>\n",
       "<style scoped>\n",
       "    .dataframe tbody tr th:only-of-type {\n",
       "        vertical-align: middle;\n",
       "    }\n",
       "\n",
       "    .dataframe tbody tr th {\n",
       "        vertical-align: top;\n",
       "    }\n",
       "\n",
       "    .dataframe thead th {\n",
       "        text-align: right;\n",
       "    }\n",
       "</style>\n",
       "<table border=\"1\" class=\"dataframe\">\n",
       "  <thead>\n",
       "    <tr style=\"text-align: right;\">\n",
       "      <th></th>\n",
       "      <th>Name</th>\n",
       "      <th>Age</th>\n",
       "      <th>City</th>\n",
       "    </tr>\n",
       "  </thead>\n",
       "  <tbody>\n",
       "    <tr>\n",
       "      <th>0</th>\n",
       "      <td>John</td>\n",
       "      <td>25</td>\n",
       "      <td>New York</td>\n",
       "    </tr>\n",
       "    <tr>\n",
       "      <th>1</th>\n",
       "      <td>Emily</td>\n",
       "      <td>30</td>\n",
       "      <td>Houston</td>\n",
       "    </tr>\n",
       "    <tr>\n",
       "      <th>2</th>\n",
       "      <td>Jack</td>\n",
       "      <td>35</td>\n",
       "      <td>Chicago</td>\n",
       "    </tr>\n",
       "    <tr>\n",
       "      <th>3</th>\n",
       "      <td>Sophia</td>\n",
       "      <td>40</td>\n",
       "      <td>Houston</td>\n",
       "    </tr>\n",
       "  </tbody>\n",
       "</table>\n",
       "</div>"
      ],
      "text/plain": [
       "     Name  Age      City\n",
       "0    John   25  New York\n",
       "1   Emily   30   Houston\n",
       "2    Jack   35   Chicago\n",
       "3  Sophia   40   Houston"
      ]
     },
     "execution_count": 15,
     "metadata": {},
     "output_type": "execute_result"
    }
   ],
   "source": [
    "df.tail()"
   ]
  },
  {
   "cell_type": "markdown",
   "metadata": {},
   "source": [
    "`info()`: Provides a concise summary of the DataFrame, including data types and memory usage.\n"
   ]
  },
  {
   "cell_type": "code",
   "execution_count": 16,
   "metadata": {},
   "outputs": [
    {
     "name": "stdout",
     "output_type": "stream",
     "text": [
      "<class 'pandas.core.frame.DataFrame'>\n",
      "RangeIndex: 4 entries, 0 to 3\n",
      "Data columns (total 3 columns):\n",
      " #   Column  Non-Null Count  Dtype \n",
      "---  ------  --------------  ----- \n",
      " 0   Name    4 non-null      object\n",
      " 1   Age     4 non-null      int64 \n",
      " 2   City    4 non-null      object\n",
      "dtypes: int64(1), object(2)\n",
      "memory usage: 228.0+ bytes\n"
     ]
    }
   ],
   "source": [
    "df.info()"
   ]
  },
  {
   "cell_type": "markdown",
   "metadata": {},
   "source": [
    "`describe()`: Generates descriptive statistics for numerical and categorical columns in the DataFrame.\n"
   ]
  },
  {
   "cell_type": "code",
   "execution_count": 17,
   "metadata": {},
   "outputs": [
    {
     "data": {
      "text/html": [
       "<div>\n",
       "<style scoped>\n",
       "    .dataframe tbody tr th:only-of-type {\n",
       "        vertical-align: middle;\n",
       "    }\n",
       "\n",
       "    .dataframe tbody tr th {\n",
       "        vertical-align: top;\n",
       "    }\n",
       "\n",
       "    .dataframe thead th {\n",
       "        text-align: right;\n",
       "    }\n",
       "</style>\n",
       "<table border=\"1\" class=\"dataframe\">\n",
       "  <thead>\n",
       "    <tr style=\"text-align: right;\">\n",
       "      <th></th>\n",
       "      <th>Age</th>\n",
       "    </tr>\n",
       "  </thead>\n",
       "  <tbody>\n",
       "    <tr>\n",
       "      <th>count</th>\n",
       "      <td>4.000000</td>\n",
       "    </tr>\n",
       "    <tr>\n",
       "      <th>mean</th>\n",
       "      <td>32.500000</td>\n",
       "    </tr>\n",
       "    <tr>\n",
       "      <th>std</th>\n",
       "      <td>6.454972</td>\n",
       "    </tr>\n",
       "    <tr>\n",
       "      <th>min</th>\n",
       "      <td>25.000000</td>\n",
       "    </tr>\n",
       "    <tr>\n",
       "      <th>25%</th>\n",
       "      <td>28.750000</td>\n",
       "    </tr>\n",
       "    <tr>\n",
       "      <th>50%</th>\n",
       "      <td>32.500000</td>\n",
       "    </tr>\n",
       "    <tr>\n",
       "      <th>75%</th>\n",
       "      <td>36.250000</td>\n",
       "    </tr>\n",
       "    <tr>\n",
       "      <th>max</th>\n",
       "      <td>40.000000</td>\n",
       "    </tr>\n",
       "  </tbody>\n",
       "</table>\n",
       "</div>"
      ],
      "text/plain": [
       "             Age\n",
       "count   4.000000\n",
       "mean   32.500000\n",
       "std     6.454972\n",
       "min    25.000000\n",
       "25%    28.750000\n",
       "50%    32.500000\n",
       "75%    36.250000\n",
       "max    40.000000"
      ]
     },
     "execution_count": 17,
     "metadata": {},
     "output_type": "execute_result"
    }
   ],
   "source": [
    "# Numerical by default\n",
    "# (we can change the percentiles)\n",
    "df.describe()"
   ]
  },
  {
   "cell_type": "code",
   "execution_count": 18,
   "metadata": {},
   "outputs": [
    {
     "data": {
      "text/html": [
       "<div>\n",
       "<style scoped>\n",
       "    .dataframe tbody tr th:only-of-type {\n",
       "        vertical-align: middle;\n",
       "    }\n",
       "\n",
       "    .dataframe tbody tr th {\n",
       "        vertical-align: top;\n",
       "    }\n",
       "\n",
       "    .dataframe thead th {\n",
       "        text-align: right;\n",
       "    }\n",
       "</style>\n",
       "<table border=\"1\" class=\"dataframe\">\n",
       "  <thead>\n",
       "    <tr style=\"text-align: right;\">\n",
       "      <th></th>\n",
       "      <th>Name</th>\n",
       "      <th>City</th>\n",
       "    </tr>\n",
       "  </thead>\n",
       "  <tbody>\n",
       "    <tr>\n",
       "      <th>count</th>\n",
       "      <td>4</td>\n",
       "      <td>4</td>\n",
       "    </tr>\n",
       "    <tr>\n",
       "      <th>unique</th>\n",
       "      <td>4</td>\n",
       "      <td>3</td>\n",
       "    </tr>\n",
       "    <tr>\n",
       "      <th>top</th>\n",
       "      <td>John</td>\n",
       "      <td>Houston</td>\n",
       "    </tr>\n",
       "    <tr>\n",
       "      <th>freq</th>\n",
       "      <td>1</td>\n",
       "      <td>2</td>\n",
       "    </tr>\n",
       "  </tbody>\n",
       "</table>\n",
       "</div>"
      ],
      "text/plain": [
       "        Name     City\n",
       "count      4        4\n",
       "unique     4        3\n",
       "top     John  Houston\n",
       "freq       1        2"
      ]
     },
     "execution_count": 18,
     "metadata": {},
     "output_type": "execute_result"
    }
   ],
   "source": [
    "# Numerical by default\n",
    "df.describe(include=\"object\")"
   ]
  },
  {
   "cell_type": "markdown",
   "metadata": {},
   "source": [
    "`sort_values()`: Sorting the data by a specific column."
   ]
  },
  {
   "cell_type": "code",
   "execution_count": 19,
   "metadata": {},
   "outputs": [
    {
     "data": {
      "text/html": [
       "<div>\n",
       "<style scoped>\n",
       "    .dataframe tbody tr th:only-of-type {\n",
       "        vertical-align: middle;\n",
       "    }\n",
       "\n",
       "    .dataframe tbody tr th {\n",
       "        vertical-align: top;\n",
       "    }\n",
       "\n",
       "    .dataframe thead th {\n",
       "        text-align: right;\n",
       "    }\n",
       "</style>\n",
       "<table border=\"1\" class=\"dataframe\">\n",
       "  <thead>\n",
       "    <tr style=\"text-align: right;\">\n",
       "      <th></th>\n",
       "      <th>Name</th>\n",
       "      <th>Age</th>\n",
       "      <th>City</th>\n",
       "    </tr>\n",
       "  </thead>\n",
       "  <tbody>\n",
       "    <tr>\n",
       "      <th>3</th>\n",
       "      <td>Sophia</td>\n",
       "      <td>40</td>\n",
       "      <td>Houston</td>\n",
       "    </tr>\n",
       "    <tr>\n",
       "      <th>2</th>\n",
       "      <td>Jack</td>\n",
       "      <td>35</td>\n",
       "      <td>Chicago</td>\n",
       "    </tr>\n",
       "    <tr>\n",
       "      <th>1</th>\n",
       "      <td>Emily</td>\n",
       "      <td>30</td>\n",
       "      <td>Houston</td>\n",
       "    </tr>\n",
       "    <tr>\n",
       "      <th>0</th>\n",
       "      <td>John</td>\n",
       "      <td>25</td>\n",
       "      <td>New York</td>\n",
       "    </tr>\n",
       "  </tbody>\n",
       "</table>\n",
       "</div>"
      ],
      "text/plain": [
       "     Name  Age      City\n",
       "3  Sophia   40   Houston\n",
       "2    Jack   35   Chicago\n",
       "1   Emily   30   Houston\n",
       "0    John   25  New York"
      ]
     },
     "execution_count": 19,
     "metadata": {},
     "output_type": "execute_result"
    }
   ],
   "source": [
    "df.sort_values(by=\"Age\", ascending=False)"
   ]
  },
  {
   "cell_type": "markdown",
   "metadata": {},
   "source": [
    "`set_index()`: Set the DataFrame index (row labels) using one or more existing columns or arrays (of the correct length)."
   ]
  },
  {
   "cell_type": "code",
   "execution_count": 20,
   "metadata": {},
   "outputs": [
    {
     "data": {
      "text/html": [
       "<div>\n",
       "<style scoped>\n",
       "    .dataframe tbody tr th:only-of-type {\n",
       "        vertical-align: middle;\n",
       "    }\n",
       "\n",
       "    .dataframe tbody tr th {\n",
       "        vertical-align: top;\n",
       "    }\n",
       "\n",
       "    .dataframe thead th {\n",
       "        text-align: right;\n",
       "    }\n",
       "</style>\n",
       "<table border=\"1\" class=\"dataframe\">\n",
       "  <thead>\n",
       "    <tr style=\"text-align: right;\">\n",
       "      <th></th>\n",
       "      <th>Name</th>\n",
       "      <th>Age</th>\n",
       "      <th>City</th>\n",
       "    </tr>\n",
       "  </thead>\n",
       "  <tbody>\n",
       "    <tr>\n",
       "      <th>0</th>\n",
       "      <td>John</td>\n",
       "      <td>25</td>\n",
       "      <td>New York</td>\n",
       "    </tr>\n",
       "    <tr>\n",
       "      <th>1</th>\n",
       "      <td>Emily</td>\n",
       "      <td>30</td>\n",
       "      <td>Houston</td>\n",
       "    </tr>\n",
       "    <tr>\n",
       "      <th>2</th>\n",
       "      <td>Jack</td>\n",
       "      <td>35</td>\n",
       "      <td>Chicago</td>\n",
       "    </tr>\n",
       "    <tr>\n",
       "      <th>3</th>\n",
       "      <td>Sophia</td>\n",
       "      <td>40</td>\n",
       "      <td>Houston</td>\n",
       "    </tr>\n",
       "  </tbody>\n",
       "</table>\n",
       "</div>"
      ],
      "text/plain": [
       "     Name  Age      City\n",
       "0    John   25  New York\n",
       "1   Emily   30   Houston\n",
       "2    Jack   35   Chicago\n",
       "3  Sophia   40   Houston"
      ]
     },
     "execution_count": 20,
     "metadata": {},
     "output_type": "execute_result"
    }
   ],
   "source": [
    "df"
   ]
  },
  {
   "cell_type": "code",
   "execution_count": 21,
   "metadata": {},
   "outputs": [
    {
     "data": {
      "text/html": [
       "<div>\n",
       "<style scoped>\n",
       "    .dataframe tbody tr th:only-of-type {\n",
       "        vertical-align: middle;\n",
       "    }\n",
       "\n",
       "    .dataframe tbody tr th {\n",
       "        vertical-align: top;\n",
       "    }\n",
       "\n",
       "    .dataframe thead th {\n",
       "        text-align: right;\n",
       "    }\n",
       "</style>\n",
       "<table border=\"1\" class=\"dataframe\">\n",
       "  <thead>\n",
       "    <tr style=\"text-align: right;\">\n",
       "      <th></th>\n",
       "      <th>Age</th>\n",
       "      <th>City</th>\n",
       "    </tr>\n",
       "    <tr>\n",
       "      <th>Name</th>\n",
       "      <th></th>\n",
       "      <th></th>\n",
       "    </tr>\n",
       "  </thead>\n",
       "  <tbody>\n",
       "    <tr>\n",
       "      <th>John</th>\n",
       "      <td>25</td>\n",
       "      <td>New York</td>\n",
       "    </tr>\n",
       "    <tr>\n",
       "      <th>Emily</th>\n",
       "      <td>30</td>\n",
       "      <td>Houston</td>\n",
       "    </tr>\n",
       "    <tr>\n",
       "      <th>Jack</th>\n",
       "      <td>35</td>\n",
       "      <td>Chicago</td>\n",
       "    </tr>\n",
       "    <tr>\n",
       "      <th>Sophia</th>\n",
       "      <td>40</td>\n",
       "      <td>Houston</td>\n",
       "    </tr>\n",
       "  </tbody>\n",
       "</table>\n",
       "</div>"
      ],
      "text/plain": [
       "        Age      City\n",
       "Name                 \n",
       "John     25  New York\n",
       "Emily    30   Houston\n",
       "Jack     35   Chicago\n",
       "Sophia   40   Houston"
      ]
     },
     "execution_count": 21,
     "metadata": {},
     "output_type": "execute_result"
    }
   ],
   "source": [
    "df = df.set_index(\"Name\")\n",
    "df"
   ]
  },
  {
   "cell_type": "markdown",
   "metadata": {},
   "source": [
    "`reset_index()`: Reset the index of the DataFrame, and use the default one instead"
   ]
  },
  {
   "cell_type": "code",
   "execution_count": 22,
   "metadata": {},
   "outputs": [
    {
     "data": {
      "text/html": [
       "<div>\n",
       "<style scoped>\n",
       "    .dataframe tbody tr th:only-of-type {\n",
       "        vertical-align: middle;\n",
       "    }\n",
       "\n",
       "    .dataframe tbody tr th {\n",
       "        vertical-align: top;\n",
       "    }\n",
       "\n",
       "    .dataframe thead th {\n",
       "        text-align: right;\n",
       "    }\n",
       "</style>\n",
       "<table border=\"1\" class=\"dataframe\">\n",
       "  <thead>\n",
       "    <tr style=\"text-align: right;\">\n",
       "      <th></th>\n",
       "      <th>Name</th>\n",
       "      <th>Age</th>\n",
       "      <th>City</th>\n",
       "    </tr>\n",
       "  </thead>\n",
       "  <tbody>\n",
       "    <tr>\n",
       "      <th>0</th>\n",
       "      <td>John</td>\n",
       "      <td>25</td>\n",
       "      <td>New York</td>\n",
       "    </tr>\n",
       "    <tr>\n",
       "      <th>1</th>\n",
       "      <td>Emily</td>\n",
       "      <td>30</td>\n",
       "      <td>Houston</td>\n",
       "    </tr>\n",
       "    <tr>\n",
       "      <th>2</th>\n",
       "      <td>Jack</td>\n",
       "      <td>35</td>\n",
       "      <td>Chicago</td>\n",
       "    </tr>\n",
       "    <tr>\n",
       "      <th>3</th>\n",
       "      <td>Sophia</td>\n",
       "      <td>40</td>\n",
       "      <td>Houston</td>\n",
       "    </tr>\n",
       "  </tbody>\n",
       "</table>\n",
       "</div>"
      ],
      "text/plain": [
       "     Name  Age      City\n",
       "0    John   25  New York\n",
       "1   Emily   30   Houston\n",
       "2    Jack   35   Chicago\n",
       "3  Sophia   40   Houston"
      ]
     },
     "execution_count": 22,
     "metadata": {},
     "output_type": "execute_result"
    }
   ],
   "source": [
    "df = df.reset_index()\n",
    "df"
   ]
  },
  {
   "cell_type": "markdown",
   "metadata": {},
   "source": [
    "`unique()`: Return unique values of Series object."
   ]
  },
  {
   "cell_type": "code",
   "execution_count": 23,
   "metadata": {},
   "outputs": [
    {
     "data": {
      "text/plain": [
       "array(['New York', 'Houston', 'Chicago'], dtype=object)"
      ]
     },
     "execution_count": 23,
     "metadata": {},
     "output_type": "execute_result"
    }
   ],
   "source": [
    "df.City.unique()"
   ]
  },
  {
   "cell_type": "markdown",
   "metadata": {},
   "source": [
    "`nunique()`: Return number of unique elements in a Series object."
   ]
  },
  {
   "cell_type": "code",
   "execution_count": 24,
   "metadata": {},
   "outputs": [
    {
     "data": {
      "text/plain": [
       "3"
      ]
     },
     "execution_count": 24,
     "metadata": {},
     "output_type": "execute_result"
    }
   ],
   "source": [
    "df.City.nunique()"
   ]
  },
  {
   "cell_type": "markdown",
   "metadata": {},
   "source": [
    "`value_counts()`: Return a Series containing counts of unique values."
   ]
  },
  {
   "cell_type": "code",
   "execution_count": 25,
   "metadata": {},
   "outputs": [
    {
     "data": {
      "text/plain": [
       "City\n",
       "Houston     2\n",
       "New York    1\n",
       "Chicago     1\n",
       "Name: count, dtype: int64"
      ]
     },
     "execution_count": 25,
     "metadata": {},
     "output_type": "execute_result"
    }
   ],
   "source": [
    "df.City.value_counts(dropna=False)"
   ]
  },
  {
   "cell_type": "markdown",
   "metadata": {},
   "source": [
    "## 3. Loading Data into Pandas"
   ]
  },
  {
   "cell_type": "markdown",
   "metadata": {},
   "source": [
    "Pandas provides convenient functions for reading data from various sources into DataFrames."
   ]
  },
  {
   "cell_type": "markdown",
   "metadata": {},
   "source": [
    "### 3.1. CSV (Comma-Separated Values) files"
   ]
  },
  {
   "cell_type": "code",
   "execution_count": 26,
   "metadata": {},
   "outputs": [
    {
     "data": {
      "text/html": [
       "<div>\n",
       "<style scoped>\n",
       "    .dataframe tbody tr th:only-of-type {\n",
       "        vertical-align: middle;\n",
       "    }\n",
       "\n",
       "    .dataframe tbody tr th {\n",
       "        vertical-align: top;\n",
       "    }\n",
       "\n",
       "    .dataframe thead th {\n",
       "        text-align: right;\n",
       "    }\n",
       "</style>\n",
       "<table border=\"1\" class=\"dataframe\">\n",
       "  <thead>\n",
       "    <tr style=\"text-align: right;\">\n",
       "      <th></th>\n",
       "      <th>Company</th>\n",
       "      <th>Revenues</th>\n",
       "      <th>Profits</th>\n",
       "      <th>Employees</th>\n",
       "      <th>Sector</th>\n",
       "      <th>Industry</th>\n",
       "    </tr>\n",
       "  </thead>\n",
       "  <tbody>\n",
       "    <tr>\n",
       "      <th>0</th>\n",
       "      <td>Walmart</td>\n",
       "      <td>500343.0</td>\n",
       "      <td>9862.0</td>\n",
       "      <td>2300000</td>\n",
       "      <td>Retailing</td>\n",
       "      <td>General Merchandisers</td>\n",
       "    </tr>\n",
       "    <tr>\n",
       "      <th>1</th>\n",
       "      <td>Exxon Mobil</td>\n",
       "      <td>244363.0</td>\n",
       "      <td>19710.0</td>\n",
       "      <td>71200</td>\n",
       "      <td>Energy</td>\n",
       "      <td>Petroleum Refining</td>\n",
       "    </tr>\n",
       "    <tr>\n",
       "      <th>2</th>\n",
       "      <td>Berkshire Hathaway</td>\n",
       "      <td>242137.0</td>\n",
       "      <td>44940.0</td>\n",
       "      <td>377000</td>\n",
       "      <td>Financials</td>\n",
       "      <td>Insurance: Property and Casualty (Stock)</td>\n",
       "    </tr>\n",
       "    <tr>\n",
       "      <th>3</th>\n",
       "      <td>Apple</td>\n",
       "      <td>229234.0</td>\n",
       "      <td>48351.0</td>\n",
       "      <td>123000</td>\n",
       "      <td>Technology</td>\n",
       "      <td>Computers, Office Equipment</td>\n",
       "    </tr>\n",
       "    <tr>\n",
       "      <th>4</th>\n",
       "      <td>UnitedHealth Group</td>\n",
       "      <td>201159.0</td>\n",
       "      <td>10558.0</td>\n",
       "      <td>260000</td>\n",
       "      <td>Health Care</td>\n",
       "      <td>Health Care: Insurance and Managed Care</td>\n",
       "    </tr>\n",
       "    <tr>\n",
       "      <th>...</th>\n",
       "      <td>...</td>\n",
       "      <td>...</td>\n",
       "      <td>...</td>\n",
       "      <td>...</td>\n",
       "      <td>...</td>\n",
       "      <td>...</td>\n",
       "    </tr>\n",
       "    <tr>\n",
       "      <th>995</th>\n",
       "      <td>SiteOne Landscape Supply</td>\n",
       "      <td>1862.0</td>\n",
       "      <td>54.6</td>\n",
       "      <td>3664</td>\n",
       "      <td>Wholesalers</td>\n",
       "      <td>Wholesalers: Diversified</td>\n",
       "    </tr>\n",
       "    <tr>\n",
       "      <th>996</th>\n",
       "      <td>Charles River Laboratories Intl</td>\n",
       "      <td>1858.0</td>\n",
       "      <td>123.4</td>\n",
       "      <td>11800</td>\n",
       "      <td>Health Care</td>\n",
       "      <td>Health Care: Pharmacy and Other Services</td>\n",
       "    </tr>\n",
       "    <tr>\n",
       "      <th>997</th>\n",
       "      <td>CoreLogic</td>\n",
       "      <td>1851.0</td>\n",
       "      <td>152.2</td>\n",
       "      <td>5900</td>\n",
       "      <td>Business Services</td>\n",
       "      <td>Financial Data Services</td>\n",
       "    </tr>\n",
       "    <tr>\n",
       "      <th>998</th>\n",
       "      <td>Ensign Group</td>\n",
       "      <td>1849.0</td>\n",
       "      <td>40.5</td>\n",
       "      <td>21301</td>\n",
       "      <td>Health Care</td>\n",
       "      <td>Health Care: Medical Facilities</td>\n",
       "    </tr>\n",
       "    <tr>\n",
       "      <th>999</th>\n",
       "      <td>HCP</td>\n",
       "      <td>1848.0</td>\n",
       "      <td>414.2</td>\n",
       "      <td>190</td>\n",
       "      <td>Financials</td>\n",
       "      <td>Real estate</td>\n",
       "    </tr>\n",
       "  </tbody>\n",
       "</table>\n",
       "<p>1000 rows × 6 columns</p>\n",
       "</div>"
      ],
      "text/plain": [
       "                             Company  Revenues  Profits  Employees  \\\n",
       "0                            Walmart  500343.0   9862.0    2300000   \n",
       "1                        Exxon Mobil  244363.0  19710.0      71200   \n",
       "2                 Berkshire Hathaway  242137.0  44940.0     377000   \n",
       "3                              Apple  229234.0  48351.0     123000   \n",
       "4                 UnitedHealth Group  201159.0  10558.0     260000   \n",
       "..                               ...       ...      ...        ...   \n",
       "995         SiteOne Landscape Supply    1862.0     54.6       3664   \n",
       "996  Charles River Laboratories Intl    1858.0    123.4      11800   \n",
       "997                        CoreLogic    1851.0    152.2       5900   \n",
       "998                     Ensign Group    1849.0     40.5      21301   \n",
       "999                              HCP    1848.0    414.2        190   \n",
       "\n",
       "                Sector                                  Industry  \n",
       "0            Retailing                     General Merchandisers  \n",
       "1               Energy                        Petroleum Refining  \n",
       "2           Financials  Insurance: Property and Casualty (Stock)  \n",
       "3           Technology               Computers, Office Equipment  \n",
       "4          Health Care   Health Care: Insurance and Managed Care  \n",
       "..                 ...                                       ...  \n",
       "995        Wholesalers                  Wholesalers: Diversified  \n",
       "996        Health Care  Health Care: Pharmacy and Other Services  \n",
       "997  Business Services                   Financial Data Services  \n",
       "998        Health Care           Health Care: Medical Facilities  \n",
       "999         Financials                               Real estate  \n",
       "\n",
       "[1000 rows x 6 columns]"
      ]
     },
     "execution_count": 26,
     "metadata": {},
     "output_type": "execute_result"
    }
   ],
   "source": [
    "df_fortune = pd.read_csv(\"./data/fortune1000.csv\", header=\"infer\", sep=\",\")\n",
    "df_fortune"
   ]
  },
  {
   "cell_type": "code",
   "execution_count": 27,
   "metadata": {},
   "outputs": [
    {
     "name": "stdout",
     "output_type": "stream",
     "text": [
      "<class 'pandas.core.frame.DataFrame'>\n",
      "RangeIndex: 1000 entries, 0 to 999\n",
      "Data columns (total 6 columns):\n",
      " #   Column     Non-Null Count  Dtype  \n",
      "---  ------     --------------  -----  \n",
      " 0   Company    1000 non-null   object \n",
      " 1   Revenues   1000 non-null   float64\n",
      " 2   Profits    998 non-null    float64\n",
      " 3   Employees  1000 non-null   int64  \n",
      " 4   Sector     1000 non-null   object \n",
      " 5   Industry   1000 non-null   object \n",
      "dtypes: float64(2), int64(1), object(3)\n",
      "memory usage: 47.0+ KB\n"
     ]
    }
   ],
   "source": [
    "df_fortune.info()"
   ]
  },
  {
   "cell_type": "markdown",
   "metadata": {},
   "source": [
    "### 3.2. Excel files"
   ]
  },
  {
   "cell_type": "code",
   "execution_count": 28,
   "metadata": {},
   "outputs": [],
   "source": [
    "# Dependency: You must install openpyxl\n",
    "# df_excel = pd.read_excel(\"./data/fortune1000.xlsx\")\n",
    "# df_excel"
   ]
  },
  {
   "cell_type": "markdown",
   "metadata": {},
   "source": [
    "## 4. Selection and indexing"
   ]
  },
  {
   "cell_type": "markdown",
   "metadata": {},
   "source": [
    "Pandas provides several strategies to select and index the contents of Series and DataFrames."
   ]
  },
  {
   "cell_type": "markdown",
   "metadata": {},
   "source": [
    "### 4.1. Series"
   ]
  },
  {
   "cell_type": "markdown",
   "metadata": {},
   "source": [
    "#### 4.1.1. Accessing Elements\n",
    "\n",
    "You can access elements of a Series directly using square brackets [] or by using the index label:"
   ]
  },
  {
   "cell_type": "code",
   "execution_count": 29,
   "metadata": {},
   "outputs": [
    {
     "data": {
      "text/plain": [
       "0    winter\n",
       "1    spring\n",
       "2    summer\n",
       "3      fall\n",
       "dtype: object"
      ]
     },
     "execution_count": 29,
     "metadata": {},
     "output_type": "execute_result"
    }
   ],
   "source": [
    "# Create a sample Series\n",
    "seasons = pd.Series([\"winter\", \"spring\", \"summer\", \"fall\"])\n",
    "seasons"
   ]
  },
  {
   "cell_type": "code",
   "execution_count": 30,
   "metadata": {},
   "outputs": [
    {
     "name": "stdout",
     "output_type": "stream",
     "text": [
      "winter\n",
      "spring\n"
     ]
    }
   ],
   "source": [
    "# Access Series elements using default indices\n",
    "print(seasons[0])\n",
    "print(seasons[1])\n",
    "# print(seasons[11]) # This fails!"
   ]
  },
  {
   "cell_type": "code",
   "execution_count": 31,
   "metadata": {},
   "outputs": [
    {
     "data": {
      "text/plain": [
       "January     1000\n",
       "February     500\n",
       "March        750\n",
       "April        250\n",
       "dtype: int64"
      ]
     },
     "execution_count": 31,
     "metadata": {},
     "output_type": "execute_result"
    }
   ],
   "source": [
    "# Create a sample Series with specific indices\n",
    "savings = pd.Series(\n",
    "    data=[1000, 500, 750, 250],\n",
    "    index=[\"January\", \"February\", \"March\", \"April\"]\n",
    ")\n",
    "savings"
   ]
  },
  {
   "cell_type": "code",
   "execution_count": 32,
   "metadata": {},
   "outputs": [
    {
     "data": {
      "text/plain": [
       "250"
      ]
     },
     "execution_count": 32,
     "metadata": {},
     "output_type": "execute_result"
    }
   ],
   "source": [
    "# Accessing a single element by index label\n",
    "# (this returns a value)\n",
    "savings[\"April\"]"
   ]
  },
  {
   "cell_type": "code",
   "execution_count": 33,
   "metadata": {},
   "outputs": [
    {
     "data": {
      "text/plain": [
       "April    250\n",
       "dtype: int64"
      ]
     },
     "execution_count": 33,
     "metadata": {},
     "output_type": "execute_result"
    }
   ],
   "source": [
    "# Accessing a single element by index label\n",
    "# (this returns a series)\n",
    "savings[[\"April\"]]"
   ]
  },
  {
   "cell_type": "code",
   "execution_count": 34,
   "metadata": {},
   "outputs": [
    {
     "data": {
      "text/plain": [
       "April       250\n",
       "January    1000\n",
       "dtype: int64"
      ]
     },
     "execution_count": 34,
     "metadata": {},
     "output_type": "execute_result"
    }
   ],
   "source": [
    "# Accessing multiple elements by index labels\n",
    "savings[[\"April\", \"January\"]]"
   ]
  },
  {
   "cell_type": "markdown",
   "metadata": {},
   "source": [
    "#### 4.1.2. Slicing\n",
    "\n",
    "You can slice a Series using index labels or integer positions:"
   ]
  },
  {
   "cell_type": "code",
   "execution_count": 35,
   "metadata": {},
   "outputs": [
    {
     "data": {
      "text/plain": [
       "January     1000\n",
       "February     500\n",
       "March        750\n",
       "dtype: int64"
      ]
     },
     "execution_count": 35,
     "metadata": {},
     "output_type": "execute_result"
    }
   ],
   "source": [
    "# Slicing by index labels (endpoint is included)\n",
    "savings[\"January\":\"March\"]"
   ]
  },
  {
   "cell_type": "code",
   "execution_count": 36,
   "metadata": {},
   "outputs": [
    {
     "data": {
      "text/plain": [
       "February    500\n",
       "March       750\n",
       "dtype: int64"
      ]
     },
     "execution_count": 36,
     "metadata": {},
     "output_type": "execute_result"
    }
   ],
   "source": [
    "# Slicing by implicit integer index (endpoint is not included)\n",
    "savings[1:3]"
   ]
  },
  {
   "cell_type": "markdown",
   "metadata": {},
   "source": [
    "#### 4.1.3. Boolean Indexing\n",
    "\n",
    "Boolean indexing allows you to select elements based on a condition:"
   ]
  },
  {
   "cell_type": "code",
   "execution_count": 37,
   "metadata": {},
   "outputs": [
    {
     "data": {
      "text/plain": [
       "January    1000\n",
       "March       750\n",
       "April       250\n",
       "dtype: int64"
      ]
     },
     "execution_count": 37,
     "metadata": {},
     "output_type": "execute_result"
    }
   ],
   "source": [
    "# Selecting elements where values meet a condition\n",
    "savings[savings != 500]"
   ]
  },
  {
   "cell_type": "markdown",
   "metadata": {},
   "source": [
    "### 4.2. DataFrames"
   ]
  },
  {
   "cell_type": "markdown",
   "metadata": {},
   "source": [
    "#### 4.2.1. Accesing columns\n",
    "\n",
    "You can access columns of a DataFrame directly using square brackets [] or dot notation:"
   ]
  },
  {
   "cell_type": "code",
   "execution_count": 38,
   "metadata": {},
   "outputs": [
    {
     "data": {
      "text/html": [
       "<div>\n",
       "<style scoped>\n",
       "    .dataframe tbody tr th:only-of-type {\n",
       "        vertical-align: middle;\n",
       "    }\n",
       "\n",
       "    .dataframe tbody tr th {\n",
       "        vertical-align: top;\n",
       "    }\n",
       "\n",
       "    .dataframe thead th {\n",
       "        text-align: right;\n",
       "    }\n",
       "</style>\n",
       "<table border=\"1\" class=\"dataframe\">\n",
       "  <thead>\n",
       "    <tr style=\"text-align: right;\">\n",
       "      <th></th>\n",
       "      <th>Company</th>\n",
       "      <th>Revenues</th>\n",
       "      <th>Profits</th>\n",
       "      <th>Employees</th>\n",
       "      <th>Sector</th>\n",
       "      <th>Industry</th>\n",
       "    </tr>\n",
       "  </thead>\n",
       "  <tbody>\n",
       "    <tr>\n",
       "      <th>0</th>\n",
       "      <td>Walmart</td>\n",
       "      <td>500343.0</td>\n",
       "      <td>9862.0</td>\n",
       "      <td>2300000</td>\n",
       "      <td>Retailing</td>\n",
       "      <td>General Merchandisers</td>\n",
       "    </tr>\n",
       "  </tbody>\n",
       "</table>\n",
       "</div>"
      ],
      "text/plain": [
       "   Company  Revenues  Profits  Employees     Sector               Industry\n",
       "0  Walmart  500343.0   9862.0    2300000  Retailing  General Merchandisers"
      ]
     },
     "execution_count": 38,
     "metadata": {},
     "output_type": "execute_result"
    }
   ],
   "source": [
    "df_fortune.head(1)"
   ]
  },
  {
   "cell_type": "code",
   "execution_count": 39,
   "metadata": {},
   "outputs": [
    {
     "data": {
      "text/plain": [
       "0                              Walmart\n",
       "1                          Exxon Mobil\n",
       "2                   Berkshire Hathaway\n",
       "3                                Apple\n",
       "4                   UnitedHealth Group\n",
       "                    ...               \n",
       "995           SiteOne Landscape Supply\n",
       "996    Charles River Laboratories Intl\n",
       "997                          CoreLogic\n",
       "998                       Ensign Group\n",
       "999                                HCP\n",
       "Name: Company, Length: 1000, dtype: object"
      ]
     },
     "execution_count": 39,
     "metadata": {},
     "output_type": "execute_result"
    }
   ],
   "source": [
    "# Accessing a single column using []\n",
    "# (return column as a Series)\n",
    "df_fortune[\"Company\"]"
   ]
  },
  {
   "cell_type": "code",
   "execution_count": 40,
   "metadata": {},
   "outputs": [
    {
     "data": {
      "text/plain": [
       "0                              Walmart\n",
       "1                          Exxon Mobil\n",
       "2                   Berkshire Hathaway\n",
       "3                                Apple\n",
       "4                   UnitedHealth Group\n",
       "                    ...               \n",
       "995           SiteOne Landscape Supply\n",
       "996    Charles River Laboratories Intl\n",
       "997                          CoreLogic\n",
       "998                       Ensign Group\n",
       "999                                HCP\n",
       "Name: Company, Length: 1000, dtype: object"
      ]
     },
     "execution_count": 40,
     "metadata": {},
     "output_type": "execute_result"
    }
   ],
   "source": [
    "# Accessing a single column using dot notation\n",
    "# (also return column as a Series)\n",
    "df_fortune.Company"
   ]
  },
  {
   "cell_type": "code",
   "execution_count": 41,
   "metadata": {},
   "outputs": [
    {
     "data": {
      "text/html": [
       "<div>\n",
       "<style scoped>\n",
       "    .dataframe tbody tr th:only-of-type {\n",
       "        vertical-align: middle;\n",
       "    }\n",
       "\n",
       "    .dataframe tbody tr th {\n",
       "        vertical-align: top;\n",
       "    }\n",
       "\n",
       "    .dataframe thead th {\n",
       "        text-align: right;\n",
       "    }\n",
       "</style>\n",
       "<table border=\"1\" class=\"dataframe\">\n",
       "  <thead>\n",
       "    <tr style=\"text-align: right;\">\n",
       "      <th></th>\n",
       "      <th>Company</th>\n",
       "    </tr>\n",
       "  </thead>\n",
       "  <tbody>\n",
       "    <tr>\n",
       "      <th>0</th>\n",
       "      <td>Walmart</td>\n",
       "    </tr>\n",
       "    <tr>\n",
       "      <th>1</th>\n",
       "      <td>Exxon Mobil</td>\n",
       "    </tr>\n",
       "    <tr>\n",
       "      <th>2</th>\n",
       "      <td>Berkshire Hathaway</td>\n",
       "    </tr>\n",
       "    <tr>\n",
       "      <th>3</th>\n",
       "      <td>Apple</td>\n",
       "    </tr>\n",
       "    <tr>\n",
       "      <th>4</th>\n",
       "      <td>UnitedHealth Group</td>\n",
       "    </tr>\n",
       "    <tr>\n",
       "      <th>...</th>\n",
       "      <td>...</td>\n",
       "    </tr>\n",
       "    <tr>\n",
       "      <th>995</th>\n",
       "      <td>SiteOne Landscape Supply</td>\n",
       "    </tr>\n",
       "    <tr>\n",
       "      <th>996</th>\n",
       "      <td>Charles River Laboratories Intl</td>\n",
       "    </tr>\n",
       "    <tr>\n",
       "      <th>997</th>\n",
       "      <td>CoreLogic</td>\n",
       "    </tr>\n",
       "    <tr>\n",
       "      <th>998</th>\n",
       "      <td>Ensign Group</td>\n",
       "    </tr>\n",
       "    <tr>\n",
       "      <th>999</th>\n",
       "      <td>HCP</td>\n",
       "    </tr>\n",
       "  </tbody>\n",
       "</table>\n",
       "<p>1000 rows × 1 columns</p>\n",
       "</div>"
      ],
      "text/plain": [
       "                             Company\n",
       "0                            Walmart\n",
       "1                        Exxon Mobil\n",
       "2                 Berkshire Hathaway\n",
       "3                              Apple\n",
       "4                 UnitedHealth Group\n",
       "..                               ...\n",
       "995         SiteOne Landscape Supply\n",
       "996  Charles River Laboratories Intl\n",
       "997                        CoreLogic\n",
       "998                     Ensign Group\n",
       "999                              HCP\n",
       "\n",
       "[1000 rows x 1 columns]"
      ]
     },
     "execution_count": 41,
     "metadata": {},
     "output_type": "execute_result"
    }
   ],
   "source": [
    "# Accessing a single column using []\n",
    "# (return a DataFrame with a single column)\n",
    "df_fortune[[\"Company\"]]"
   ]
  },
  {
   "cell_type": "code",
   "execution_count": 42,
   "metadata": {},
   "outputs": [
    {
     "data": {
      "text/html": [
       "<div>\n",
       "<style scoped>\n",
       "    .dataframe tbody tr th:only-of-type {\n",
       "        vertical-align: middle;\n",
       "    }\n",
       "\n",
       "    .dataframe tbody tr th {\n",
       "        vertical-align: top;\n",
       "    }\n",
       "\n",
       "    .dataframe thead th {\n",
       "        text-align: right;\n",
       "    }\n",
       "</style>\n",
       "<table border=\"1\" class=\"dataframe\">\n",
       "  <thead>\n",
       "    <tr style=\"text-align: right;\">\n",
       "      <th></th>\n",
       "      <th>Company</th>\n",
       "      <th>Revenues</th>\n",
       "      <th>Profits</th>\n",
       "      <th>Employees</th>\n",
       "      <th>Sector</th>\n",
       "      <th>Industry</th>\n",
       "    </tr>\n",
       "  </thead>\n",
       "  <tbody>\n",
       "    <tr>\n",
       "      <th>0</th>\n",
       "      <td>Walmart</td>\n",
       "      <td>500343.0</td>\n",
       "      <td>9862.0</td>\n",
       "      <td>2300000</td>\n",
       "      <td>Retailing</td>\n",
       "      <td>General Merchandisers</td>\n",
       "    </tr>\n",
       "  </tbody>\n",
       "</table>\n",
       "</div>"
      ],
      "text/plain": [
       "   Company  Revenues  Profits  Employees     Sector               Industry\n",
       "0  Walmart  500343.0   9862.0    2300000  Retailing  General Merchandisers"
      ]
     },
     "execution_count": 42,
     "metadata": {},
     "output_type": "execute_result"
    }
   ],
   "source": [
    "df_fortune.head(1)"
   ]
  },
  {
   "cell_type": "code",
   "execution_count": 43,
   "metadata": {},
   "outputs": [
    {
     "data": {
      "text/html": [
       "<div>\n",
       "<style scoped>\n",
       "    .dataframe tbody tr th:only-of-type {\n",
       "        vertical-align: middle;\n",
       "    }\n",
       "\n",
       "    .dataframe tbody tr th {\n",
       "        vertical-align: top;\n",
       "    }\n",
       "\n",
       "    .dataframe thead th {\n",
       "        text-align: right;\n",
       "    }\n",
       "</style>\n",
       "<table border=\"1\" class=\"dataframe\">\n",
       "  <thead>\n",
       "    <tr style=\"text-align: right;\">\n",
       "      <th></th>\n",
       "      <th>Employees</th>\n",
       "      <th>Company</th>\n",
       "    </tr>\n",
       "  </thead>\n",
       "  <tbody>\n",
       "    <tr>\n",
       "      <th>0</th>\n",
       "      <td>2300000</td>\n",
       "      <td>Walmart</td>\n",
       "    </tr>\n",
       "    <tr>\n",
       "      <th>1</th>\n",
       "      <td>71200</td>\n",
       "      <td>Exxon Mobil</td>\n",
       "    </tr>\n",
       "    <tr>\n",
       "      <th>2</th>\n",
       "      <td>377000</td>\n",
       "      <td>Berkshire Hathaway</td>\n",
       "    </tr>\n",
       "    <tr>\n",
       "      <th>3</th>\n",
       "      <td>123000</td>\n",
       "      <td>Apple</td>\n",
       "    </tr>\n",
       "    <tr>\n",
       "      <th>4</th>\n",
       "      <td>260000</td>\n",
       "      <td>UnitedHealth Group</td>\n",
       "    </tr>\n",
       "    <tr>\n",
       "      <th>...</th>\n",
       "      <td>...</td>\n",
       "      <td>...</td>\n",
       "    </tr>\n",
       "    <tr>\n",
       "      <th>995</th>\n",
       "      <td>3664</td>\n",
       "      <td>SiteOne Landscape Supply</td>\n",
       "    </tr>\n",
       "    <tr>\n",
       "      <th>996</th>\n",
       "      <td>11800</td>\n",
       "      <td>Charles River Laboratories Intl</td>\n",
       "    </tr>\n",
       "    <tr>\n",
       "      <th>997</th>\n",
       "      <td>5900</td>\n",
       "      <td>CoreLogic</td>\n",
       "    </tr>\n",
       "    <tr>\n",
       "      <th>998</th>\n",
       "      <td>21301</td>\n",
       "      <td>Ensign Group</td>\n",
       "    </tr>\n",
       "    <tr>\n",
       "      <th>999</th>\n",
       "      <td>190</td>\n",
       "      <td>HCP</td>\n",
       "    </tr>\n",
       "  </tbody>\n",
       "</table>\n",
       "<p>1000 rows × 2 columns</p>\n",
       "</div>"
      ],
      "text/plain": [
       "     Employees                          Company\n",
       "0      2300000                          Walmart\n",
       "1        71200                      Exxon Mobil\n",
       "2       377000               Berkshire Hathaway\n",
       "3       123000                            Apple\n",
       "4       260000               UnitedHealth Group\n",
       "..         ...                              ...\n",
       "995       3664         SiteOne Landscape Supply\n",
       "996      11800  Charles River Laboratories Intl\n",
       "997       5900                        CoreLogic\n",
       "998      21301                     Ensign Group\n",
       "999        190                              HCP\n",
       "\n",
       "[1000 rows x 2 columns]"
      ]
     },
     "execution_count": 43,
     "metadata": {},
     "output_type": "execute_result"
    }
   ],
   "source": [
    "# Accessing multiple columns\n",
    "# (columns can be returned in different order)\n",
    "df_fortune[[\"Employees\", \"Company\"]]"
   ]
  },
  {
   "cell_type": "markdown",
   "metadata": {},
   "source": [
    "You can also use the `filter()` method to retrieve columns:"
   ]
  },
  {
   "cell_type": "code",
   "execution_count": 44,
   "metadata": {},
   "outputs": [
    {
     "data": {
      "text/html": [
       "<div>\n",
       "<style scoped>\n",
       "    .dataframe tbody tr th:only-of-type {\n",
       "        vertical-align: middle;\n",
       "    }\n",
       "\n",
       "    .dataframe tbody tr th {\n",
       "        vertical-align: top;\n",
       "    }\n",
       "\n",
       "    .dataframe thead th {\n",
       "        text-align: right;\n",
       "    }\n",
       "</style>\n",
       "<table border=\"1\" class=\"dataframe\">\n",
       "  <thead>\n",
       "    <tr style=\"text-align: right;\">\n",
       "      <th></th>\n",
       "      <th>Company</th>\n",
       "      <th>Profits</th>\n",
       "    </tr>\n",
       "  </thead>\n",
       "  <tbody>\n",
       "    <tr>\n",
       "      <th>0</th>\n",
       "      <td>Walmart</td>\n",
       "      <td>9862.0</td>\n",
       "    </tr>\n",
       "    <tr>\n",
       "      <th>1</th>\n",
       "      <td>Exxon Mobil</td>\n",
       "      <td>19710.0</td>\n",
       "    </tr>\n",
       "    <tr>\n",
       "      <th>2</th>\n",
       "      <td>Berkshire Hathaway</td>\n",
       "      <td>44940.0</td>\n",
       "    </tr>\n",
       "    <tr>\n",
       "      <th>3</th>\n",
       "      <td>Apple</td>\n",
       "      <td>48351.0</td>\n",
       "    </tr>\n",
       "    <tr>\n",
       "      <th>4</th>\n",
       "      <td>UnitedHealth Group</td>\n",
       "      <td>10558.0</td>\n",
       "    </tr>\n",
       "    <tr>\n",
       "      <th>...</th>\n",
       "      <td>...</td>\n",
       "      <td>...</td>\n",
       "    </tr>\n",
       "    <tr>\n",
       "      <th>995</th>\n",
       "      <td>SiteOne Landscape Supply</td>\n",
       "      <td>54.6</td>\n",
       "    </tr>\n",
       "    <tr>\n",
       "      <th>996</th>\n",
       "      <td>Charles River Laboratories Intl</td>\n",
       "      <td>123.4</td>\n",
       "    </tr>\n",
       "    <tr>\n",
       "      <th>997</th>\n",
       "      <td>CoreLogic</td>\n",
       "      <td>152.2</td>\n",
       "    </tr>\n",
       "    <tr>\n",
       "      <th>998</th>\n",
       "      <td>Ensign Group</td>\n",
       "      <td>40.5</td>\n",
       "    </tr>\n",
       "    <tr>\n",
       "      <th>999</th>\n",
       "      <td>HCP</td>\n",
       "      <td>414.2</td>\n",
       "    </tr>\n",
       "  </tbody>\n",
       "</table>\n",
       "<p>1000 rows × 2 columns</p>\n",
       "</div>"
      ],
      "text/plain": [
       "                             Company  Profits\n",
       "0                            Walmart   9862.0\n",
       "1                        Exxon Mobil  19710.0\n",
       "2                 Berkshire Hathaway  44940.0\n",
       "3                              Apple  48351.0\n",
       "4                 UnitedHealth Group  10558.0\n",
       "..                               ...      ...\n",
       "995         SiteOne Landscape Supply     54.6\n",
       "996  Charles River Laboratories Intl    123.4\n",
       "997                        CoreLogic    152.2\n",
       "998                     Ensign Group     40.5\n",
       "999                              HCP    414.2\n",
       "\n",
       "[1000 rows x 2 columns]"
      ]
     },
     "execution_count": 44,
     "metadata": {},
     "output_type": "execute_result"
    }
   ],
   "source": [
    "# Here \"axis\" can be omited since it's the default value\n",
    "df_fortune.filter(items=[\"Company\", \"Profits\"], axis=\"columns\")"
   ]
  },
  {
   "cell_type": "code",
   "execution_count": 45,
   "metadata": {},
   "outputs": [
    {
     "data": {
      "text/html": [
       "<div>\n",
       "<style scoped>\n",
       "    .dataframe tbody tr th:only-of-type {\n",
       "        vertical-align: middle;\n",
       "    }\n",
       "\n",
       "    .dataframe tbody tr th {\n",
       "        vertical-align: top;\n",
       "    }\n",
       "\n",
       "    .dataframe thead th {\n",
       "        text-align: right;\n",
       "    }\n",
       "</style>\n",
       "<table border=\"1\" class=\"dataframe\">\n",
       "  <thead>\n",
       "    <tr style=\"text-align: right;\">\n",
       "      <th></th>\n",
       "      <th>Company</th>\n",
       "      <th>Profits</th>\n",
       "      <th>Employees</th>\n",
       "      <th>Sector</th>\n",
       "    </tr>\n",
       "  </thead>\n",
       "  <tbody>\n",
       "    <tr>\n",
       "      <th>0</th>\n",
       "      <td>Walmart</td>\n",
       "      <td>9862.0</td>\n",
       "      <td>2300000</td>\n",
       "      <td>Retailing</td>\n",
       "    </tr>\n",
       "    <tr>\n",
       "      <th>1</th>\n",
       "      <td>Exxon Mobil</td>\n",
       "      <td>19710.0</td>\n",
       "      <td>71200</td>\n",
       "      <td>Energy</td>\n",
       "    </tr>\n",
       "    <tr>\n",
       "      <th>2</th>\n",
       "      <td>Berkshire Hathaway</td>\n",
       "      <td>44940.0</td>\n",
       "      <td>377000</td>\n",
       "      <td>Financials</td>\n",
       "    </tr>\n",
       "    <tr>\n",
       "      <th>3</th>\n",
       "      <td>Apple</td>\n",
       "      <td>48351.0</td>\n",
       "      <td>123000</td>\n",
       "      <td>Technology</td>\n",
       "    </tr>\n",
       "    <tr>\n",
       "      <th>4</th>\n",
       "      <td>UnitedHealth Group</td>\n",
       "      <td>10558.0</td>\n",
       "      <td>260000</td>\n",
       "      <td>Health Care</td>\n",
       "    </tr>\n",
       "    <tr>\n",
       "      <th>...</th>\n",
       "      <td>...</td>\n",
       "      <td>...</td>\n",
       "      <td>...</td>\n",
       "      <td>...</td>\n",
       "    </tr>\n",
       "    <tr>\n",
       "      <th>995</th>\n",
       "      <td>SiteOne Landscape Supply</td>\n",
       "      <td>54.6</td>\n",
       "      <td>3664</td>\n",
       "      <td>Wholesalers</td>\n",
       "    </tr>\n",
       "    <tr>\n",
       "      <th>996</th>\n",
       "      <td>Charles River Laboratories Intl</td>\n",
       "      <td>123.4</td>\n",
       "      <td>11800</td>\n",
       "      <td>Health Care</td>\n",
       "    </tr>\n",
       "    <tr>\n",
       "      <th>997</th>\n",
       "      <td>CoreLogic</td>\n",
       "      <td>152.2</td>\n",
       "      <td>5900</td>\n",
       "      <td>Business Services</td>\n",
       "    </tr>\n",
       "    <tr>\n",
       "      <th>998</th>\n",
       "      <td>Ensign Group</td>\n",
       "      <td>40.5</td>\n",
       "      <td>21301</td>\n",
       "      <td>Health Care</td>\n",
       "    </tr>\n",
       "    <tr>\n",
       "      <th>999</th>\n",
       "      <td>HCP</td>\n",
       "      <td>414.2</td>\n",
       "      <td>190</td>\n",
       "      <td>Financials</td>\n",
       "    </tr>\n",
       "  </tbody>\n",
       "</table>\n",
       "<p>1000 rows × 4 columns</p>\n",
       "</div>"
      ],
      "text/plain": [
       "                             Company  Profits  Employees             Sector\n",
       "0                            Walmart   9862.0    2300000          Retailing\n",
       "1                        Exxon Mobil  19710.0      71200             Energy\n",
       "2                 Berkshire Hathaway  44940.0     377000         Financials\n",
       "3                              Apple  48351.0     123000         Technology\n",
       "4                 UnitedHealth Group  10558.0     260000        Health Care\n",
       "..                               ...      ...        ...                ...\n",
       "995         SiteOne Landscape Supply     54.6       3664        Wholesalers\n",
       "996  Charles River Laboratories Intl    123.4      11800        Health Care\n",
       "997                        CoreLogic    152.2       5900  Business Services\n",
       "998                     Ensign Group     40.5      21301        Health Care\n",
       "999                              HCP    414.2        190         Financials\n",
       "\n",
       "[1000 rows x 4 columns]"
      ]
     },
     "execution_count": 45,
     "metadata": {},
     "output_type": "execute_result"
    }
   ],
   "source": [
    "# Access columns based on name patterns\n",
    "df_fortune.filter(like=\"o\", axis=1)"
   ]
  },
  {
   "cell_type": "code",
   "execution_count": 46,
   "metadata": {},
   "outputs": [
    {
     "data": {
      "text/html": [
       "<div>\n",
       "<style scoped>\n",
       "    .dataframe tbody tr th:only-of-type {\n",
       "        vertical-align: middle;\n",
       "    }\n",
       "\n",
       "    .dataframe tbody tr th {\n",
       "        vertical-align: top;\n",
       "    }\n",
       "\n",
       "    .dataframe thead th {\n",
       "        text-align: right;\n",
       "    }\n",
       "</style>\n",
       "<table border=\"1\" class=\"dataframe\">\n",
       "  <thead>\n",
       "    <tr style=\"text-align: right;\">\n",
       "      <th></th>\n",
       "      <th>Revenues</th>\n",
       "    </tr>\n",
       "  </thead>\n",
       "  <tbody>\n",
       "    <tr>\n",
       "      <th>0</th>\n",
       "      <td>500343.0</td>\n",
       "    </tr>\n",
       "    <tr>\n",
       "      <th>1</th>\n",
       "      <td>244363.0</td>\n",
       "    </tr>\n",
       "    <tr>\n",
       "      <th>2</th>\n",
       "      <td>242137.0</td>\n",
       "    </tr>\n",
       "    <tr>\n",
       "      <th>3</th>\n",
       "      <td>229234.0</td>\n",
       "    </tr>\n",
       "    <tr>\n",
       "      <th>4</th>\n",
       "      <td>201159.0</td>\n",
       "    </tr>\n",
       "    <tr>\n",
       "      <th>...</th>\n",
       "      <td>...</td>\n",
       "    </tr>\n",
       "    <tr>\n",
       "      <th>995</th>\n",
       "      <td>1862.0</td>\n",
       "    </tr>\n",
       "    <tr>\n",
       "      <th>996</th>\n",
       "      <td>1858.0</td>\n",
       "    </tr>\n",
       "    <tr>\n",
       "      <th>997</th>\n",
       "      <td>1851.0</td>\n",
       "    </tr>\n",
       "    <tr>\n",
       "      <th>998</th>\n",
       "      <td>1849.0</td>\n",
       "    </tr>\n",
       "    <tr>\n",
       "      <th>999</th>\n",
       "      <td>1848.0</td>\n",
       "    </tr>\n",
       "  </tbody>\n",
       "</table>\n",
       "<p>1000 rows × 1 columns</p>\n",
       "</div>"
      ],
      "text/plain": [
       "     Revenues\n",
       "0    500343.0\n",
       "1    244363.0\n",
       "2    242137.0\n",
       "3    229234.0\n",
       "4    201159.0\n",
       "..        ...\n",
       "995    1862.0\n",
       "996    1858.0\n",
       "997    1851.0\n",
       "998    1849.0\n",
       "999    1848.0\n",
       "\n",
       "[1000 rows x 1 columns]"
      ]
     },
     "execution_count": 46,
     "metadata": {},
     "output_type": "execute_result"
    }
   ],
   "source": [
    "# Access columns based on name patterns\n",
    "df_fortune.filter(regex=\"^R\", axis=1)"
   ]
  },
  {
   "cell_type": "markdown",
   "metadata": {},
   "source": [
    "#### 4.2.2. Accessing rows\n",
    "\n",
    "You can use [] for slicing or boolean indexing to access the rows:"
   ]
  },
  {
   "cell_type": "code",
   "execution_count": 47,
   "metadata": {},
   "outputs": [
    {
     "data": {
      "text/html": [
       "<div>\n",
       "<style scoped>\n",
       "    .dataframe tbody tr th:only-of-type {\n",
       "        vertical-align: middle;\n",
       "    }\n",
       "\n",
       "    .dataframe tbody tr th {\n",
       "        vertical-align: top;\n",
       "    }\n",
       "\n",
       "    .dataframe thead th {\n",
       "        text-align: right;\n",
       "    }\n",
       "</style>\n",
       "<table border=\"1\" class=\"dataframe\">\n",
       "  <thead>\n",
       "    <tr style=\"text-align: right;\">\n",
       "      <th></th>\n",
       "      <th>Company</th>\n",
       "      <th>Revenues</th>\n",
       "      <th>Profits</th>\n",
       "      <th>Employees</th>\n",
       "      <th>Sector</th>\n",
       "      <th>Industry</th>\n",
       "    </tr>\n",
       "  </thead>\n",
       "  <tbody>\n",
       "    <tr>\n",
       "      <th>0</th>\n",
       "      <td>Walmart</td>\n",
       "      <td>500343.0</td>\n",
       "      <td>9862.0</td>\n",
       "      <td>2300000</td>\n",
       "      <td>Retailing</td>\n",
       "      <td>General Merchandisers</td>\n",
       "    </tr>\n",
       "    <tr>\n",
       "      <th>1</th>\n",
       "      <td>Exxon Mobil</td>\n",
       "      <td>244363.0</td>\n",
       "      <td>19710.0</td>\n",
       "      <td>71200</td>\n",
       "      <td>Energy</td>\n",
       "      <td>Petroleum Refining</td>\n",
       "    </tr>\n",
       "    <tr>\n",
       "      <th>2</th>\n",
       "      <td>Berkshire Hathaway</td>\n",
       "      <td>242137.0</td>\n",
       "      <td>44940.0</td>\n",
       "      <td>377000</td>\n",
       "      <td>Financials</td>\n",
       "      <td>Insurance: Property and Casualty (Stock)</td>\n",
       "    </tr>\n",
       "    <tr>\n",
       "      <th>3</th>\n",
       "      <td>Apple</td>\n",
       "      <td>229234.0</td>\n",
       "      <td>48351.0</td>\n",
       "      <td>123000</td>\n",
       "      <td>Technology</td>\n",
       "      <td>Computers, Office Equipment</td>\n",
       "    </tr>\n",
       "    <tr>\n",
       "      <th>4</th>\n",
       "      <td>UnitedHealth Group</td>\n",
       "      <td>201159.0</td>\n",
       "      <td>10558.0</td>\n",
       "      <td>260000</td>\n",
       "      <td>Health Care</td>\n",
       "      <td>Health Care: Insurance and Managed Care</td>\n",
       "    </tr>\n",
       "    <tr>\n",
       "      <th>5</th>\n",
       "      <td>McKesson</td>\n",
       "      <td>198533.0</td>\n",
       "      <td>5070.0</td>\n",
       "      <td>64500</td>\n",
       "      <td>Wholesalers</td>\n",
       "      <td>Wholesalers: Health Care</td>\n",
       "    </tr>\n",
       "    <tr>\n",
       "      <th>6</th>\n",
       "      <td>CVS Health</td>\n",
       "      <td>184765.0</td>\n",
       "      <td>6622.0</td>\n",
       "      <td>203000</td>\n",
       "      <td>Health Care</td>\n",
       "      <td>Health Care: Pharmacy and Other Services</td>\n",
       "    </tr>\n",
       "    <tr>\n",
       "      <th>7</th>\n",
       "      <td>Amazon.com</td>\n",
       "      <td>177866.0</td>\n",
       "      <td>3033.0</td>\n",
       "      <td>566000</td>\n",
       "      <td>Retailing</td>\n",
       "      <td>Internet Services and Retailing</td>\n",
       "    </tr>\n",
       "    <tr>\n",
       "      <th>8</th>\n",
       "      <td>AT&amp;T</td>\n",
       "      <td>160546.0</td>\n",
       "      <td>29450.0</td>\n",
       "      <td>254000</td>\n",
       "      <td>Telecommunications</td>\n",
       "      <td>Telecommunications</td>\n",
       "    </tr>\n",
       "    <tr>\n",
       "      <th>9</th>\n",
       "      <td>General Motors</td>\n",
       "      <td>157311.0</td>\n",
       "      <td>-3864.0</td>\n",
       "      <td>180000</td>\n",
       "      <td>Motor Vehicles &amp; Parts</td>\n",
       "      <td>Motor Vehicles and Parts</td>\n",
       "    </tr>\n",
       "  </tbody>\n",
       "</table>\n",
       "</div>"
      ],
      "text/plain": [
       "              Company  Revenues  Profits  Employees                  Sector  \\\n",
       "0             Walmart  500343.0   9862.0    2300000               Retailing   \n",
       "1         Exxon Mobil  244363.0  19710.0      71200                  Energy   \n",
       "2  Berkshire Hathaway  242137.0  44940.0     377000              Financials   \n",
       "3               Apple  229234.0  48351.0     123000              Technology   \n",
       "4  UnitedHealth Group  201159.0  10558.0     260000             Health Care   \n",
       "5            McKesson  198533.0   5070.0      64500             Wholesalers   \n",
       "6          CVS Health  184765.0   6622.0     203000             Health Care   \n",
       "7          Amazon.com  177866.0   3033.0     566000               Retailing   \n",
       "8                AT&T  160546.0  29450.0     254000      Telecommunications   \n",
       "9      General Motors  157311.0  -3864.0     180000  Motor Vehicles & Parts   \n",
       "\n",
       "                                   Industry  \n",
       "0                     General Merchandisers  \n",
       "1                        Petroleum Refining  \n",
       "2  Insurance: Property and Casualty (Stock)  \n",
       "3               Computers, Office Equipment  \n",
       "4   Health Care: Insurance and Managed Care  \n",
       "5                  Wholesalers: Health Care  \n",
       "6  Health Care: Pharmacy and Other Services  \n",
       "7           Internet Services and Retailing  \n",
       "8                        Telecommunications  \n",
       "9                  Motor Vehicles and Parts  "
      ]
     },
     "execution_count": 47,
     "metadata": {},
     "output_type": "execute_result"
    }
   ],
   "source": [
    "# Slicing by integer positions (exclusive of endpoint)\n",
    "df_fortune[0:10]"
   ]
  },
  {
   "cell_type": "code",
   "execution_count": 48,
   "metadata": {},
   "outputs": [
    {
     "data": {
      "text/html": [
       "<div>\n",
       "<style scoped>\n",
       "    .dataframe tbody tr th:only-of-type {\n",
       "        vertical-align: middle;\n",
       "    }\n",
       "\n",
       "    .dataframe tbody tr th {\n",
       "        vertical-align: top;\n",
       "    }\n",
       "\n",
       "    .dataframe thead th {\n",
       "        text-align: right;\n",
       "    }\n",
       "</style>\n",
       "<table border=\"1\" class=\"dataframe\">\n",
       "  <thead>\n",
       "    <tr style=\"text-align: right;\">\n",
       "      <th></th>\n",
       "      <th>Company</th>\n",
       "      <th>Revenues</th>\n",
       "      <th>Profits</th>\n",
       "      <th>Employees</th>\n",
       "      <th>Sector</th>\n",
       "      <th>Industry</th>\n",
       "    </tr>\n",
       "  </thead>\n",
       "  <tbody>\n",
       "    <tr>\n",
       "      <th>403</th>\n",
       "      <td>A-Mark Precious Metals</td>\n",
       "      <td>6990.0</td>\n",
       "      <td>7.1</td>\n",
       "      <td>126</td>\n",
       "      <td>Materials</td>\n",
       "      <td>Miscellaneous</td>\n",
       "    </tr>\n",
       "    <tr>\n",
       "      <th>501</th>\n",
       "      <td>Host Hotels &amp; Resorts</td>\n",
       "      <td>5387.0</td>\n",
       "      <td>564.0</td>\n",
       "      <td>205</td>\n",
       "      <td>Financials</td>\n",
       "      <td>Real estate</td>\n",
       "    </tr>\n",
       "    <tr>\n",
       "      <th>576</th>\n",
       "      <td>Welltower</td>\n",
       "      <td>4317.0</td>\n",
       "      <td>522.8</td>\n",
       "      <td>392</td>\n",
       "      <td>Financials</td>\n",
       "      <td>Real estate</td>\n",
       "    </tr>\n",
       "    <tr>\n",
       "      <th>613</th>\n",
       "      <td>American Equity Investment Life</td>\n",
       "      <td>3892.0</td>\n",
       "      <td>174.6</td>\n",
       "      <td>515</td>\n",
       "      <td>Financials</td>\n",
       "      <td>Insurance: Life, Health (stock)</td>\n",
       "    </tr>\n",
       "    <tr>\n",
       "      <th>617</th>\n",
       "      <td>Crestwood Equity Partners</td>\n",
       "      <td>3881.0</td>\n",
       "      <td>-191.9</td>\n",
       "      <td>954</td>\n",
       "      <td>Energy</td>\n",
       "      <td>Energy</td>\n",
       "    </tr>\n",
       "    <tr>\n",
       "      <th>635</th>\n",
       "      <td>Antero Resources</td>\n",
       "      <td>3656.0</td>\n",
       "      <td>615.1</td>\n",
       "      <td>593</td>\n",
       "      <td>Energy</td>\n",
       "      <td>Mining, Crude-Oil Production</td>\n",
       "    </tr>\n",
       "    <tr>\n",
       "      <th>651</th>\n",
       "      <td>Ventas</td>\n",
       "      <td>3574.0</td>\n",
       "      <td>1356.5</td>\n",
       "      <td>493</td>\n",
       "      <td>Financials</td>\n",
       "      <td>Real estate</td>\n",
       "    </tr>\n",
       "    <tr>\n",
       "      <th>757</th>\n",
       "      <td>Sprague Resources</td>\n",
       "      <td>2855.0</td>\n",
       "      <td>29.5</td>\n",
       "      <td>981</td>\n",
       "      <td>Wholesalers</td>\n",
       "      <td>Wholesalers: Diversified</td>\n",
       "    </tr>\n",
       "    <tr>\n",
       "      <th>761</th>\n",
       "      <td>Colony NorthStar</td>\n",
       "      <td>2842.0</td>\n",
       "      <td>-197.9</td>\n",
       "      <td>544</td>\n",
       "      <td>Financials</td>\n",
       "      <td>Real estate</td>\n",
       "    </tr>\n",
       "    <tr>\n",
       "      <th>765</th>\n",
       "      <td>Annaly Capital Management</td>\n",
       "      <td>2809.0</td>\n",
       "      <td>1569.6</td>\n",
       "      <td>152</td>\n",
       "      <td>Financials</td>\n",
       "      <td>Diversified Financials</td>\n",
       "    </tr>\n",
       "    <tr>\n",
       "      <th>772</th>\n",
       "      <td>Park Hotels &amp; Resorts</td>\n",
       "      <td>2791.0</td>\n",
       "      <td>2625.0</td>\n",
       "      <td>520</td>\n",
       "      <td>Financials</td>\n",
       "      <td>Real estate</td>\n",
       "    </tr>\n",
       "    <tr>\n",
       "      <th>805</th>\n",
       "      <td>Range Resources</td>\n",
       "      <td>2611.0</td>\n",
       "      <td>333.1</td>\n",
       "      <td>773</td>\n",
       "      <td>Energy</td>\n",
       "      <td>Mining, Crude-Oil Production</td>\n",
       "    </tr>\n",
       "    <tr>\n",
       "      <th>808</th>\n",
       "      <td>Boston Properties</td>\n",
       "      <td>2602.0</td>\n",
       "      <td>462.4</td>\n",
       "      <td>740</td>\n",
       "      <td>Financials</td>\n",
       "      <td>Real estate</td>\n",
       "    </tr>\n",
       "    <tr>\n",
       "      <th>844</th>\n",
       "      <td>Par Pacific Holdings</td>\n",
       "      <td>2443.0</td>\n",
       "      <td>72.6</td>\n",
       "      <td>905</td>\n",
       "      <td>Energy</td>\n",
       "      <td>Petroleum Refining</td>\n",
       "    </tr>\n",
       "    <tr>\n",
       "      <th>877</th>\n",
       "      <td>Knights of Columbus</td>\n",
       "      <td>2290.0</td>\n",
       "      <td>108.1</td>\n",
       "      <td>926</td>\n",
       "      <td>Financials</td>\n",
       "      <td>Insurance: Life, Health (Mutual)</td>\n",
       "    </tr>\n",
       "    <tr>\n",
       "      <th>899</th>\n",
       "      <td>Cboe Global Markets</td>\n",
       "      <td>2229.0</td>\n",
       "      <td>401.7</td>\n",
       "      <td>889</td>\n",
       "      <td>Financials</td>\n",
       "      <td>Securities</td>\n",
       "    </tr>\n",
       "    <tr>\n",
       "      <th>913</th>\n",
       "      <td>Hospitality Properties Trust</td>\n",
       "      <td>2172.0</td>\n",
       "      <td>215.1</td>\n",
       "      <td>450</td>\n",
       "      <td>Financials</td>\n",
       "      <td>Real estate</td>\n",
       "    </tr>\n",
       "    <tr>\n",
       "      <th>917</th>\n",
       "      <td>Renewable Energy Group</td>\n",
       "      <td>2158.0</td>\n",
       "      <td>-79.1</td>\n",
       "      <td>853</td>\n",
       "      <td>Energy</td>\n",
       "      <td>Energy</td>\n",
       "    </tr>\n",
       "    <tr>\n",
       "      <th>929</th>\n",
       "      <td>Oaktree Capital Group</td>\n",
       "      <td>2100.0</td>\n",
       "      <td>231.5</td>\n",
       "      <td>930</td>\n",
       "      <td>Financials</td>\n",
       "      <td>Securities</td>\n",
       "    </tr>\n",
       "    <tr>\n",
       "      <th>980</th>\n",
       "      <td>Cimarex Energy</td>\n",
       "      <td>1918.0</td>\n",
       "      <td>494.3</td>\n",
       "      <td>910</td>\n",
       "      <td>Energy</td>\n",
       "      <td>Mining, Crude-Oil Production</td>\n",
       "    </tr>\n",
       "    <tr>\n",
       "      <th>999</th>\n",
       "      <td>HCP</td>\n",
       "      <td>1848.0</td>\n",
       "      <td>414.2</td>\n",
       "      <td>190</td>\n",
       "      <td>Financials</td>\n",
       "      <td>Real estate</td>\n",
       "    </tr>\n",
       "  </tbody>\n",
       "</table>\n",
       "</div>"
      ],
      "text/plain": [
       "                             Company  Revenues  Profits  Employees  \\\n",
       "403           A-Mark Precious Metals    6990.0      7.1        126   \n",
       "501            Host Hotels & Resorts    5387.0    564.0        205   \n",
       "576                        Welltower    4317.0    522.8        392   \n",
       "613  American Equity Investment Life    3892.0    174.6        515   \n",
       "617        Crestwood Equity Partners    3881.0   -191.9        954   \n",
       "635                 Antero Resources    3656.0    615.1        593   \n",
       "651                           Ventas    3574.0   1356.5        493   \n",
       "757                Sprague Resources    2855.0     29.5        981   \n",
       "761                 Colony NorthStar    2842.0   -197.9        544   \n",
       "765        Annaly Capital Management    2809.0   1569.6        152   \n",
       "772            Park Hotels & Resorts    2791.0   2625.0        520   \n",
       "805                  Range Resources    2611.0    333.1        773   \n",
       "808                Boston Properties    2602.0    462.4        740   \n",
       "844             Par Pacific Holdings    2443.0     72.6        905   \n",
       "877              Knights of Columbus    2290.0    108.1        926   \n",
       "899              Cboe Global Markets    2229.0    401.7        889   \n",
       "913     Hospitality Properties Trust    2172.0    215.1        450   \n",
       "917           Renewable Energy Group    2158.0    -79.1        853   \n",
       "929            Oaktree Capital Group    2100.0    231.5        930   \n",
       "980                   Cimarex Energy    1918.0    494.3        910   \n",
       "999                              HCP    1848.0    414.2        190   \n",
       "\n",
       "          Sector                          Industry  \n",
       "403    Materials                     Miscellaneous  \n",
       "501   Financials                       Real estate  \n",
       "576   Financials                       Real estate  \n",
       "613   Financials   Insurance: Life, Health (stock)  \n",
       "617       Energy                            Energy  \n",
       "635       Energy      Mining, Crude-Oil Production  \n",
       "651   Financials                       Real estate  \n",
       "757  Wholesalers          Wholesalers: Diversified  \n",
       "761   Financials                       Real estate  \n",
       "765   Financials            Diversified Financials  \n",
       "772   Financials                       Real estate  \n",
       "805       Energy      Mining, Crude-Oil Production  \n",
       "808   Financials                       Real estate  \n",
       "844       Energy                Petroleum Refining  \n",
       "877   Financials  Insurance: Life, Health (Mutual)  \n",
       "899   Financials                        Securities  \n",
       "913   Financials                       Real estate  \n",
       "917       Energy                            Energy  \n",
       "929   Financials                        Securities  \n",
       "980       Energy      Mining, Crude-Oil Production  \n",
       "999   Financials                       Real estate  "
      ]
     },
     "execution_count": 48,
     "metadata": {},
     "output_type": "execute_result"
    }
   ],
   "source": [
    "# Conditional selection using boolean indexing\n",
    "df_fortune[df_fortune.Employees <= 1000]"
   ]
  },
  {
   "cell_type": "code",
   "execution_count": 49,
   "metadata": {},
   "outputs": [
    {
     "data": {
      "text/html": [
       "<div>\n",
       "<style scoped>\n",
       "    .dataframe tbody tr th:only-of-type {\n",
       "        vertical-align: middle;\n",
       "    }\n",
       "\n",
       "    .dataframe tbody tr th {\n",
       "        vertical-align: top;\n",
       "    }\n",
       "\n",
       "    .dataframe thead th {\n",
       "        text-align: right;\n",
       "    }\n",
       "</style>\n",
       "<table border=\"1\" class=\"dataframe\">\n",
       "  <thead>\n",
       "    <tr style=\"text-align: right;\">\n",
       "      <th></th>\n",
       "      <th>Company</th>\n",
       "      <th>Revenues</th>\n",
       "      <th>Profits</th>\n",
       "      <th>Employees</th>\n",
       "      <th>Sector</th>\n",
       "      <th>Industry</th>\n",
       "    </tr>\n",
       "  </thead>\n",
       "  <tbody>\n",
       "    <tr>\n",
       "      <th>9</th>\n",
       "      <td>General Motors</td>\n",
       "      <td>157311.0</td>\n",
       "      <td>-3864.0</td>\n",
       "      <td>180000</td>\n",
       "      <td>Motor Vehicles &amp; Parts</td>\n",
       "      <td>Motor Vehicles and Parts</td>\n",
       "    </tr>\n",
       "    <tr>\n",
       "      <th>17</th>\n",
       "      <td>General Electric</td>\n",
       "      <td>122274.0</td>\n",
       "      <td>-5786.0</td>\n",
       "      <td>313000</td>\n",
       "      <td>Industrials</td>\n",
       "      <td>Industrial Machinery</td>\n",
       "    </tr>\n",
       "    <tr>\n",
       "      <th>31</th>\n",
       "      <td>Citigroup</td>\n",
       "      <td>87966.0</td>\n",
       "      <td>-6798.0</td>\n",
       "      <td>209000</td>\n",
       "      <td>Financials</td>\n",
       "      <td>Commercial Banks</td>\n",
       "    </tr>\n",
       "    <tr>\n",
       "      <th>34</th>\n",
       "      <td>Dell Technologies</td>\n",
       "      <td>78660.0</td>\n",
       "      <td>-3728.0</td>\n",
       "      <td>145000</td>\n",
       "      <td>Technology</td>\n",
       "      <td>Computers, Office Equipment</td>\n",
       "    </tr>\n",
       "    <tr>\n",
       "      <th>52</th>\n",
       "      <td>Albertsons Cos.</td>\n",
       "      <td>59678.0</td>\n",
       "      <td>-373.3</td>\n",
       "      <td>273000</td>\n",
       "      <td>Food &amp;  Drug Stores</td>\n",
       "      <td>Food and Drug Stores</td>\n",
       "    </tr>\n",
       "    <tr>\n",
       "      <th>...</th>\n",
       "      <td>...</td>\n",
       "      <td>...</td>\n",
       "      <td>...</td>\n",
       "      <td>...</td>\n",
       "      <td>...</td>\n",
       "      <td>...</td>\n",
       "    </tr>\n",
       "    <tr>\n",
       "      <th>975</th>\n",
       "      <td>Engility Holdings</td>\n",
       "      <td>1932.0</td>\n",
       "      <td>-35.2</td>\n",
       "      <td>8700</td>\n",
       "      <td>Aerospace &amp; Defense</td>\n",
       "      <td>Aerospace and Defense</td>\n",
       "    </tr>\n",
       "    <tr>\n",
       "      <th>976</th>\n",
       "      <td>Ferrellgas Partners</td>\n",
       "      <td>1930.0</td>\n",
       "      <td>-54.2</td>\n",
       "      <td>3891</td>\n",
       "      <td>Energy</td>\n",
       "      <td>Energy</td>\n",
       "    </tr>\n",
       "    <tr>\n",
       "      <th>988</th>\n",
       "      <td>Aerojet Rocketdyne Holdings</td>\n",
       "      <td>1877.0</td>\n",
       "      <td>-9.2</td>\n",
       "      <td>5157</td>\n",
       "      <td>Aerospace &amp; Defense</td>\n",
       "      <td>Aerospace and Defense</td>\n",
       "    </tr>\n",
       "    <tr>\n",
       "      <th>990</th>\n",
       "      <td>Superior Energy Services</td>\n",
       "      <td>1874.0</td>\n",
       "      <td>-205.9</td>\n",
       "      <td>6400</td>\n",
       "      <td>Energy</td>\n",
       "      <td>Oil and Gas Equipment, Services</td>\n",
       "    </tr>\n",
       "    <tr>\n",
       "      <th>991</th>\n",
       "      <td>VeriFone Systems</td>\n",
       "      <td>1871.0</td>\n",
       "      <td>-173.8</td>\n",
       "      <td>5600</td>\n",
       "      <td>Technology</td>\n",
       "      <td>Financial Data Services</td>\n",
       "    </tr>\n",
       "  </tbody>\n",
       "</table>\n",
       "<p>127 rows × 6 columns</p>\n",
       "</div>"
      ],
      "text/plain": [
       "                         Company  Revenues  Profits  Employees  \\\n",
       "9                 General Motors  157311.0  -3864.0     180000   \n",
       "17              General Electric  122274.0  -5786.0     313000   \n",
       "31                     Citigroup   87966.0  -6798.0     209000   \n",
       "34             Dell Technologies   78660.0  -3728.0     145000   \n",
       "52               Albertsons Cos.   59678.0   -373.3     273000   \n",
       "..                           ...       ...      ...        ...   \n",
       "975            Engility Holdings    1932.0    -35.2       8700   \n",
       "976          Ferrellgas Partners    1930.0    -54.2       3891   \n",
       "988  Aerojet Rocketdyne Holdings    1877.0     -9.2       5157   \n",
       "990     Superior Energy Services    1874.0   -205.9       6400   \n",
       "991             VeriFone Systems    1871.0   -173.8       5600   \n",
       "\n",
       "                     Sector                         Industry  \n",
       "9    Motor Vehicles & Parts         Motor Vehicles and Parts  \n",
       "17              Industrials             Industrial Machinery  \n",
       "31               Financials                 Commercial Banks  \n",
       "34               Technology      Computers, Office Equipment  \n",
       "52      Food &  Drug Stores             Food and Drug Stores  \n",
       "..                      ...                              ...  \n",
       "975     Aerospace & Defense            Aerospace and Defense  \n",
       "976                  Energy                           Energy  \n",
       "988     Aerospace & Defense            Aerospace and Defense  \n",
       "990                  Energy  Oil and Gas Equipment, Services  \n",
       "991              Technology          Financial Data Services  \n",
       "\n",
       "[127 rows x 6 columns]"
      ]
     },
     "execution_count": 49,
     "metadata": {},
     "output_type": "execute_result"
    }
   ],
   "source": [
    "# Conditional selection using boolean indexing (&, and, |, or)\n",
    "df_fortune[(df_fortune.Profits < 0) | (df_fortune.Revenues < 1000)]"
   ]
  },
  {
   "cell_type": "markdown",
   "metadata": {},
   "source": [
    "In pandas, the `query()` method allows you to extract DataFrame rows by specifying conditions through a query string, using comparison operators, string methods, logical combinations, and more:"
   ]
  },
  {
   "cell_type": "code",
   "execution_count": 50,
   "metadata": {},
   "outputs": [
    {
     "data": {
      "text/html": [
       "<div>\n",
       "<style scoped>\n",
       "    .dataframe tbody tr th:only-of-type {\n",
       "        vertical-align: middle;\n",
       "    }\n",
       "\n",
       "    .dataframe tbody tr th {\n",
       "        vertical-align: top;\n",
       "    }\n",
       "\n",
       "    .dataframe thead th {\n",
       "        text-align: right;\n",
       "    }\n",
       "</style>\n",
       "<table border=\"1\" class=\"dataframe\">\n",
       "  <thead>\n",
       "    <tr style=\"text-align: right;\">\n",
       "      <th></th>\n",
       "      <th>Company</th>\n",
       "      <th>Revenues</th>\n",
       "      <th>Profits</th>\n",
       "      <th>Employees</th>\n",
       "      <th>Sector</th>\n",
       "      <th>Industry</th>\n",
       "    </tr>\n",
       "  </thead>\n",
       "  <tbody>\n",
       "    <tr>\n",
       "      <th>865</th>\n",
       "      <td>MPM Holdings</td>\n",
       "      <td>2331.0</td>\n",
       "      <td>0.0</td>\n",
       "      <td>5200</td>\n",
       "      <td>Chemicals</td>\n",
       "      <td>Chemicals</td>\n",
       "    </tr>\n",
       "  </tbody>\n",
       "</table>\n",
       "</div>"
      ],
      "text/plain": [
       "          Company  Revenues  Profits  Employees     Sector   Industry\n",
       "865  MPM Holdings    2331.0      0.0       5200  Chemicals  Chemicals"
      ]
     },
     "execution_count": 50,
     "metadata": {},
     "output_type": "execute_result"
    }
   ],
   "source": [
    "# Comparison involving numbers\n",
    "df_fortune.query(\"Profits == 0\")"
   ]
  },
  {
   "cell_type": "code",
   "execution_count": 51,
   "metadata": {},
   "outputs": [
    {
     "data": {
      "text/html": [
       "<div>\n",
       "<style scoped>\n",
       "    .dataframe tbody tr th:only-of-type {\n",
       "        vertical-align: middle;\n",
       "    }\n",
       "\n",
       "    .dataframe tbody tr th {\n",
       "        vertical-align: top;\n",
       "    }\n",
       "\n",
       "    .dataframe thead th {\n",
       "        text-align: right;\n",
       "    }\n",
       "</style>\n",
       "<table border=\"1\" class=\"dataframe\">\n",
       "  <thead>\n",
       "    <tr style=\"text-align: right;\">\n",
       "      <th></th>\n",
       "      <th>Company</th>\n",
       "      <th>Revenues</th>\n",
       "      <th>Profits</th>\n",
       "      <th>Employees</th>\n",
       "      <th>Sector</th>\n",
       "      <th>Industry</th>\n",
       "    </tr>\n",
       "  </thead>\n",
       "  <tbody>\n",
       "    <tr>\n",
       "      <th>46</th>\n",
       "      <td>DowDuPont</td>\n",
       "      <td>62683.0</td>\n",
       "      <td>1460.0</td>\n",
       "      <td>98000</td>\n",
       "      <td>Chemicals</td>\n",
       "      <td>Chemicals</td>\n",
       "    </tr>\n",
       "    <tr>\n",
       "      <th>189</th>\n",
       "      <td>Sherwin-Williams</td>\n",
       "      <td>14984.0</td>\n",
       "      <td>1772.3</td>\n",
       "      <td>52695</td>\n",
       "      <td>Chemicals</td>\n",
       "      <td>Chemicals</td>\n",
       "    </tr>\n",
       "    <tr>\n",
       "      <th>190</th>\n",
       "      <td>PPG Industries</td>\n",
       "      <td>14967.0</td>\n",
       "      <td>1591.0</td>\n",
       "      <td>47200</td>\n",
       "      <td>Chemicals</td>\n",
       "      <td>Chemicals</td>\n",
       "    </tr>\n",
       "    <tr>\n",
       "      <th>198</th>\n",
       "      <td>Monsanto</td>\n",
       "      <td>14640.0</td>\n",
       "      <td>2260.0</td>\n",
       "      <td>21900</td>\n",
       "      <td>Chemicals</td>\n",
       "      <td>Chemicals</td>\n",
       "    </tr>\n",
       "    <tr>\n",
       "      <th>214</th>\n",
       "      <td>Ecolab</td>\n",
       "      <td>13838.0</td>\n",
       "      <td>1508.4</td>\n",
       "      <td>48400</td>\n",
       "      <td>Chemicals</td>\n",
       "      <td>Chemicals</td>\n",
       "    </tr>\n",
       "  </tbody>\n",
       "</table>\n",
       "</div>"
      ],
      "text/plain": [
       "              Company  Revenues  Profits  Employees     Sector   Industry\n",
       "46          DowDuPont   62683.0   1460.0      98000  Chemicals  Chemicals\n",
       "189  Sherwin-Williams   14984.0   1772.3      52695  Chemicals  Chemicals\n",
       "190    PPG Industries   14967.0   1591.0      47200  Chemicals  Chemicals\n",
       "198          Monsanto   14640.0   2260.0      21900  Chemicals  Chemicals\n",
       "214            Ecolab   13838.0   1508.4      48400  Chemicals  Chemicals"
      ]
     },
     "execution_count": 51,
     "metadata": {},
     "output_type": "execute_result"
    }
   ],
   "source": [
    "# Comparison involving texts\n",
    "df_fortune.query('Industry == \"Chemicals\"').head()"
   ]
  },
  {
   "cell_type": "code",
   "execution_count": 52,
   "metadata": {},
   "outputs": [
    {
     "data": {
      "text/html": [
       "<div>\n",
       "<style scoped>\n",
       "    .dataframe tbody tr th:only-of-type {\n",
       "        vertical-align: middle;\n",
       "    }\n",
       "\n",
       "    .dataframe tbody tr th {\n",
       "        vertical-align: top;\n",
       "    }\n",
       "\n",
       "    .dataframe thead th {\n",
       "        text-align: right;\n",
       "    }\n",
       "</style>\n",
       "<table border=\"1\" class=\"dataframe\">\n",
       "  <thead>\n",
       "    <tr style=\"text-align: right;\">\n",
       "      <th></th>\n",
       "      <th>Company</th>\n",
       "      <th>Revenues</th>\n",
       "      <th>Profits</th>\n",
       "      <th>Employees</th>\n",
       "      <th>Sector</th>\n",
       "      <th>Industry</th>\n",
       "    </tr>\n",
       "  </thead>\n",
       "  <tbody>\n",
       "    <tr>\n",
       "      <th>0</th>\n",
       "      <td>Walmart</td>\n",
       "      <td>500343.0</td>\n",
       "      <td>9862.0</td>\n",
       "      <td>2300000</td>\n",
       "      <td>Retailing</td>\n",
       "      <td>General Merchandisers</td>\n",
       "    </tr>\n",
       "    <tr>\n",
       "      <th>1</th>\n",
       "      <td>Exxon Mobil</td>\n",
       "      <td>244363.0</td>\n",
       "      <td>19710.0</td>\n",
       "      <td>71200</td>\n",
       "      <td>Energy</td>\n",
       "      <td>Petroleum Refining</td>\n",
       "    </tr>\n",
       "    <tr>\n",
       "      <th>2</th>\n",
       "      <td>Berkshire Hathaway</td>\n",
       "      <td>242137.0</td>\n",
       "      <td>44940.0</td>\n",
       "      <td>377000</td>\n",
       "      <td>Financials</td>\n",
       "      <td>Insurance: Property and Casualty (Stock)</td>\n",
       "    </tr>\n",
       "    <tr>\n",
       "      <th>3</th>\n",
       "      <td>Apple</td>\n",
       "      <td>229234.0</td>\n",
       "      <td>48351.0</td>\n",
       "      <td>123000</td>\n",
       "      <td>Technology</td>\n",
       "      <td>Computers, Office Equipment</td>\n",
       "    </tr>\n",
       "    <tr>\n",
       "      <th>4</th>\n",
       "      <td>UnitedHealth Group</td>\n",
       "      <td>201159.0</td>\n",
       "      <td>10558.0</td>\n",
       "      <td>260000</td>\n",
       "      <td>Health Care</td>\n",
       "      <td>Health Care: Insurance and Managed Care</td>\n",
       "    </tr>\n",
       "    <tr>\n",
       "      <th>...</th>\n",
       "      <td>...</td>\n",
       "      <td>...</td>\n",
       "      <td>...</td>\n",
       "      <td>...</td>\n",
       "      <td>...</td>\n",
       "      <td>...</td>\n",
       "    </tr>\n",
       "    <tr>\n",
       "      <th>765</th>\n",
       "      <td>Annaly Capital Management</td>\n",
       "      <td>2809.0</td>\n",
       "      <td>1569.6</td>\n",
       "      <td>152</td>\n",
       "      <td>Financials</td>\n",
       "      <td>Diversified Financials</td>\n",
       "    </tr>\n",
       "    <tr>\n",
       "      <th>769</th>\n",
       "      <td>Ciena</td>\n",
       "      <td>2802.0</td>\n",
       "      <td>1262.0</td>\n",
       "      <td>5737</td>\n",
       "      <td>Technology</td>\n",
       "      <td>Network and Other Communications Equipment</td>\n",
       "    </tr>\n",
       "    <tr>\n",
       "      <th>772</th>\n",
       "      <td>Park Hotels &amp; Resorts</td>\n",
       "      <td>2791.0</td>\n",
       "      <td>2625.0</td>\n",
       "      <td>520</td>\n",
       "      <td>Financials</td>\n",
       "      <td>Real estate</td>\n",
       "    </tr>\n",
       "    <tr>\n",
       "      <th>796</th>\n",
       "      <td>Public Storage</td>\n",
       "      <td>2669.0</td>\n",
       "      <td>1442.2</td>\n",
       "      <td>5600</td>\n",
       "      <td>Financials</td>\n",
       "      <td>Real estate</td>\n",
       "    </tr>\n",
       "    <tr>\n",
       "      <th>804</th>\n",
       "      <td>Prologis</td>\n",
       "      <td>2618.0</td>\n",
       "      <td>1652.3</td>\n",
       "      <td>1565</td>\n",
       "      <td>Financials</td>\n",
       "      <td>Real estate</td>\n",
       "    </tr>\n",
       "  </tbody>\n",
       "</table>\n",
       "<p>243 rows × 6 columns</p>\n",
       "</div>"
      ],
      "text/plain": [
       "                       Company  Revenues  Profits  Employees       Sector  \\\n",
       "0                      Walmart  500343.0   9862.0    2300000    Retailing   \n",
       "1                  Exxon Mobil  244363.0  19710.0      71200       Energy   \n",
       "2           Berkshire Hathaway  242137.0  44940.0     377000   Financials   \n",
       "3                        Apple  229234.0  48351.0     123000   Technology   \n",
       "4           UnitedHealth Group  201159.0  10558.0     260000  Health Care   \n",
       "..                         ...       ...      ...        ...          ...   \n",
       "765  Annaly Capital Management    2809.0   1569.6        152   Financials   \n",
       "769                      Ciena    2802.0   1262.0       5737   Technology   \n",
       "772      Park Hotels & Resorts    2791.0   2625.0        520   Financials   \n",
       "796             Public Storage    2669.0   1442.2       5600   Financials   \n",
       "804                   Prologis    2618.0   1652.3       1565   Financials   \n",
       "\n",
       "                                       Industry  \n",
       "0                         General Merchandisers  \n",
       "1                            Petroleum Refining  \n",
       "2      Insurance: Property and Casualty (Stock)  \n",
       "3                   Computers, Office Equipment  \n",
       "4       Health Care: Insurance and Managed Care  \n",
       "..                                          ...  \n",
       "765                      Diversified Financials  \n",
       "769  Network and Other Communications Equipment  \n",
       "772                                 Real estate  \n",
       "796                                 Real estate  \n",
       "804                                 Real estate  \n",
       "\n",
       "[243 rows x 6 columns]"
      ]
     },
     "execution_count": 52,
     "metadata": {},
     "output_type": "execute_result"
    }
   ],
   "source": [
    "# Comparison operators involving variables\n",
    "value = 1000\n",
    "df_fortune.query(\"Profits >= @value\")"
   ]
  },
  {
   "cell_type": "code",
   "execution_count": 53,
   "metadata": {},
   "outputs": [
    {
     "data": {
      "text/html": [
       "<div>\n",
       "<style scoped>\n",
       "    .dataframe tbody tr th:only-of-type {\n",
       "        vertical-align: middle;\n",
       "    }\n",
       "\n",
       "    .dataframe tbody tr th {\n",
       "        vertical-align: top;\n",
       "    }\n",
       "\n",
       "    .dataframe thead th {\n",
       "        text-align: right;\n",
       "    }\n",
       "</style>\n",
       "<table border=\"1\" class=\"dataframe\">\n",
       "  <thead>\n",
       "    <tr style=\"text-align: right;\">\n",
       "      <th></th>\n",
       "      <th>Company</th>\n",
       "      <th>Revenues</th>\n",
       "      <th>Profits</th>\n",
       "      <th>Employees</th>\n",
       "      <th>Sector</th>\n",
       "      <th>Industry</th>\n",
       "    </tr>\n",
       "  </thead>\n",
       "  <tbody>\n",
       "    <tr>\n",
       "      <th>0</th>\n",
       "      <td>Walmart</td>\n",
       "      <td>500343.0</td>\n",
       "      <td>9862.0</td>\n",
       "      <td>2300000</td>\n",
       "      <td>Retailing</td>\n",
       "      <td>General Merchandisers</td>\n",
       "    </tr>\n",
       "    <tr>\n",
       "      <th>1</th>\n",
       "      <td>Exxon Mobil</td>\n",
       "      <td>244363.0</td>\n",
       "      <td>19710.0</td>\n",
       "      <td>71200</td>\n",
       "      <td>Energy</td>\n",
       "      <td>Petroleum Refining</td>\n",
       "    </tr>\n",
       "    <tr>\n",
       "      <th>2</th>\n",
       "      <td>Berkshire Hathaway</td>\n",
       "      <td>242137.0</td>\n",
       "      <td>44940.0</td>\n",
       "      <td>377000</td>\n",
       "      <td>Financials</td>\n",
       "      <td>Insurance: Property and Casualty (Stock)</td>\n",
       "    </tr>\n",
       "    <tr>\n",
       "      <th>3</th>\n",
       "      <td>Apple</td>\n",
       "      <td>229234.0</td>\n",
       "      <td>48351.0</td>\n",
       "      <td>123000</td>\n",
       "      <td>Technology</td>\n",
       "      <td>Computers, Office Equipment</td>\n",
       "    </tr>\n",
       "    <tr>\n",
       "      <th>4</th>\n",
       "      <td>UnitedHealth Group</td>\n",
       "      <td>201159.0</td>\n",
       "      <td>10558.0</td>\n",
       "      <td>260000</td>\n",
       "      <td>Health Care</td>\n",
       "      <td>Health Care: Insurance and Managed Care</td>\n",
       "    </tr>\n",
       "    <tr>\n",
       "      <th>...</th>\n",
       "      <td>...</td>\n",
       "      <td>...</td>\n",
       "      <td>...</td>\n",
       "      <td>...</td>\n",
       "      <td>...</td>\n",
       "      <td>...</td>\n",
       "    </tr>\n",
       "    <tr>\n",
       "      <th>994</th>\n",
       "      <td>Healthcare Services Group</td>\n",
       "      <td>1866.0</td>\n",
       "      <td>88.2</td>\n",
       "      <td>55000</td>\n",
       "      <td>Health Care</td>\n",
       "      <td>Health Care: Pharmacy and Other Services</td>\n",
       "    </tr>\n",
       "    <tr>\n",
       "      <th>995</th>\n",
       "      <td>SiteOne Landscape Supply</td>\n",
       "      <td>1862.0</td>\n",
       "      <td>54.6</td>\n",
       "      <td>3664</td>\n",
       "      <td>Wholesalers</td>\n",
       "      <td>Wholesalers: Diversified</td>\n",
       "    </tr>\n",
       "    <tr>\n",
       "      <th>996</th>\n",
       "      <td>Charles River Laboratories Intl</td>\n",
       "      <td>1858.0</td>\n",
       "      <td>123.4</td>\n",
       "      <td>11800</td>\n",
       "      <td>Health Care</td>\n",
       "      <td>Health Care: Pharmacy and Other Services</td>\n",
       "    </tr>\n",
       "    <tr>\n",
       "      <th>997</th>\n",
       "      <td>CoreLogic</td>\n",
       "      <td>1851.0</td>\n",
       "      <td>152.2</td>\n",
       "      <td>5900</td>\n",
       "      <td>Business Services</td>\n",
       "      <td>Financial Data Services</td>\n",
       "    </tr>\n",
       "    <tr>\n",
       "      <th>998</th>\n",
       "      <td>Ensign Group</td>\n",
       "      <td>1849.0</td>\n",
       "      <td>40.5</td>\n",
       "      <td>21301</td>\n",
       "      <td>Health Care</td>\n",
       "      <td>Health Care: Medical Facilities</td>\n",
       "    </tr>\n",
       "  </tbody>\n",
       "</table>\n",
       "<p>979 rows × 6 columns</p>\n",
       "</div>"
      ],
      "text/plain": [
       "                             Company  Revenues  Profits  Employees  \\\n",
       "0                            Walmart  500343.0   9862.0    2300000   \n",
       "1                        Exxon Mobil  244363.0  19710.0      71200   \n",
       "2                 Berkshire Hathaway  242137.0  44940.0     377000   \n",
       "3                              Apple  229234.0  48351.0     123000   \n",
       "4                 UnitedHealth Group  201159.0  10558.0     260000   \n",
       "..                               ...       ...      ...        ...   \n",
       "994        Healthcare Services Group    1866.0     88.2      55000   \n",
       "995         SiteOne Landscape Supply    1862.0     54.6       3664   \n",
       "996  Charles River Laboratories Intl    1858.0    123.4      11800   \n",
       "997                        CoreLogic    1851.0    152.2       5900   \n",
       "998                     Ensign Group    1849.0     40.5      21301   \n",
       "\n",
       "                Sector                                  Industry  \n",
       "0            Retailing                     General Merchandisers  \n",
       "1               Energy                        Petroleum Refining  \n",
       "2           Financials  Insurance: Property and Casualty (Stock)  \n",
       "3           Technology               Computers, Office Equipment  \n",
       "4          Health Care   Health Care: Insurance and Managed Care  \n",
       "..                 ...                                       ...  \n",
       "994        Health Care  Health Care: Pharmacy and Other Services  \n",
       "995        Wholesalers                  Wholesalers: Diversified  \n",
       "996        Health Care  Health Care: Pharmacy and Other Services  \n",
       "997  Business Services                   Financial Data Services  \n",
       "998        Health Care           Health Care: Medical Facilities  \n",
       "\n",
       "[979 rows x 6 columns]"
      ]
     },
     "execution_count": 53,
     "metadata": {},
     "output_type": "execute_result"
    }
   ],
   "source": [
    "# Comparison operators involving variables\n",
    "value = 1000\n",
    "df_fortune.query(f\"Employees >= {value}\")"
   ]
  },
  {
   "cell_type": "code",
   "execution_count": 54,
   "metadata": {},
   "outputs": [
    {
     "data": {
      "text/html": [
       "<div>\n",
       "<style scoped>\n",
       "    .dataframe tbody tr th:only-of-type {\n",
       "        vertical-align: middle;\n",
       "    }\n",
       "\n",
       "    .dataframe tbody tr th {\n",
       "        vertical-align: top;\n",
       "    }\n",
       "\n",
       "    .dataframe thead th {\n",
       "        text-align: right;\n",
       "    }\n",
       "</style>\n",
       "<table border=\"1\" class=\"dataframe\">\n",
       "  <thead>\n",
       "    <tr style=\"text-align: right;\">\n",
       "      <th></th>\n",
       "      <th>Company</th>\n",
       "      <th>Revenues</th>\n",
       "      <th>Profits</th>\n",
       "      <th>Employees</th>\n",
       "      <th>Sector</th>\n",
       "      <th>Industry</th>\n",
       "    </tr>\n",
       "  </thead>\n",
       "  <tbody>\n",
       "    <tr>\n",
       "      <th>0</th>\n",
       "      <td>Walmart</td>\n",
       "      <td>500343.0</td>\n",
       "      <td>9862.0</td>\n",
       "      <td>2300000</td>\n",
       "      <td>Retailing</td>\n",
       "      <td>General Merchandisers</td>\n",
       "    </tr>\n",
       "    <tr>\n",
       "      <th>1</th>\n",
       "      <td>Exxon Mobil</td>\n",
       "      <td>244363.0</td>\n",
       "      <td>19710.0</td>\n",
       "      <td>71200</td>\n",
       "      <td>Energy</td>\n",
       "      <td>Petroleum Refining</td>\n",
       "    </tr>\n",
       "    <tr>\n",
       "      <th>2</th>\n",
       "      <td>Berkshire Hathaway</td>\n",
       "      <td>242137.0</td>\n",
       "      <td>44940.0</td>\n",
       "      <td>377000</td>\n",
       "      <td>Financials</td>\n",
       "      <td>Insurance: Property and Casualty (Stock)</td>\n",
       "    </tr>\n",
       "    <tr>\n",
       "      <th>3</th>\n",
       "      <td>Apple</td>\n",
       "      <td>229234.0</td>\n",
       "      <td>48351.0</td>\n",
       "      <td>123000</td>\n",
       "      <td>Technology</td>\n",
       "      <td>Computers, Office Equipment</td>\n",
       "    </tr>\n",
       "    <tr>\n",
       "      <th>5</th>\n",
       "      <td>McKesson</td>\n",
       "      <td>198533.0</td>\n",
       "      <td>5070.0</td>\n",
       "      <td>64500</td>\n",
       "      <td>Wholesalers</td>\n",
       "      <td>Wholesalers: Health Care</td>\n",
       "    </tr>\n",
       "    <tr>\n",
       "      <th>...</th>\n",
       "      <td>...</td>\n",
       "      <td>...</td>\n",
       "      <td>...</td>\n",
       "      <td>...</td>\n",
       "      <td>...</td>\n",
       "      <td>...</td>\n",
       "    </tr>\n",
       "    <tr>\n",
       "      <th>992</th>\n",
       "      <td>Childrens Place</td>\n",
       "      <td>1870.0</td>\n",
       "      <td>84.7</td>\n",
       "      <td>9800</td>\n",
       "      <td>Retailing</td>\n",
       "      <td>Specialty Retailers: Apparel</td>\n",
       "    </tr>\n",
       "    <tr>\n",
       "      <th>993</th>\n",
       "      <td>Tribune Media</td>\n",
       "      <td>1867.0</td>\n",
       "      <td>194.1</td>\n",
       "      <td>6000</td>\n",
       "      <td>Media</td>\n",
       "      <td>Entertainment</td>\n",
       "    </tr>\n",
       "    <tr>\n",
       "      <th>995</th>\n",
       "      <td>SiteOne Landscape Supply</td>\n",
       "      <td>1862.0</td>\n",
       "      <td>54.6</td>\n",
       "      <td>3664</td>\n",
       "      <td>Wholesalers</td>\n",
       "      <td>Wholesalers: Diversified</td>\n",
       "    </tr>\n",
       "    <tr>\n",
       "      <th>997</th>\n",
       "      <td>CoreLogic</td>\n",
       "      <td>1851.0</td>\n",
       "      <td>152.2</td>\n",
       "      <td>5900</td>\n",
       "      <td>Business Services</td>\n",
       "      <td>Financial Data Services</td>\n",
       "    </tr>\n",
       "    <tr>\n",
       "      <th>999</th>\n",
       "      <td>HCP</td>\n",
       "      <td>1848.0</td>\n",
       "      <td>414.2</td>\n",
       "      <td>190</td>\n",
       "      <td>Financials</td>\n",
       "      <td>Real estate</td>\n",
       "    </tr>\n",
       "  </tbody>\n",
       "</table>\n",
       "<p>929 rows × 6 columns</p>\n",
       "</div>"
      ],
      "text/plain": [
       "                      Company  Revenues  Profits  Employees  \\\n",
       "0                     Walmart  500343.0   9862.0    2300000   \n",
       "1                 Exxon Mobil  244363.0  19710.0      71200   \n",
       "2          Berkshire Hathaway  242137.0  44940.0     377000   \n",
       "3                       Apple  229234.0  48351.0     123000   \n",
       "5                    McKesson  198533.0   5070.0      64500   \n",
       "..                        ...       ...      ...        ...   \n",
       "992           Childrens Place    1870.0     84.7       9800   \n",
       "993             Tribune Media    1867.0    194.1       6000   \n",
       "995  SiteOne Landscape Supply    1862.0     54.6       3664   \n",
       "997                 CoreLogic    1851.0    152.2       5900   \n",
       "999                       HCP    1848.0    414.2        190   \n",
       "\n",
       "                Sector                                  Industry  \n",
       "0            Retailing                     General Merchandisers  \n",
       "1               Energy                        Petroleum Refining  \n",
       "2           Financials  Insurance: Property and Casualty (Stock)  \n",
       "3           Technology               Computers, Office Equipment  \n",
       "5          Wholesalers                  Wholesalers: Health Care  \n",
       "..                 ...                                       ...  \n",
       "992          Retailing              Specialty Retailers: Apparel  \n",
       "993              Media                             Entertainment  \n",
       "995        Wholesalers                  Wholesalers: Diversified  \n",
       "997  Business Services                   Financial Data Services  \n",
       "999         Financials                               Real estate  \n",
       "\n",
       "[929 rows x 6 columns]"
      ]
     },
     "execution_count": 54,
     "metadata": {},
     "output_type": "execute_result"
    }
   ],
   "source": [
    "# Comparison operators involving variables\n",
    "value = \"Health Care\"\n",
    "df_fortune.query(f\"Sector != '{value}'\")"
   ]
  },
  {
   "cell_type": "code",
   "execution_count": 55,
   "metadata": {},
   "outputs": [
    {
     "data": {
      "text/html": [
       "<div>\n",
       "<style scoped>\n",
       "    .dataframe tbody tr th:only-of-type {\n",
       "        vertical-align: middle;\n",
       "    }\n",
       "\n",
       "    .dataframe tbody tr th {\n",
       "        vertical-align: top;\n",
       "    }\n",
       "\n",
       "    .dataframe thead th {\n",
       "        text-align: right;\n",
       "    }\n",
       "</style>\n",
       "<table border=\"1\" class=\"dataframe\">\n",
       "  <thead>\n",
       "    <tr style=\"text-align: right;\">\n",
       "      <th></th>\n",
       "      <th>Company</th>\n",
       "      <th>Revenues</th>\n",
       "      <th>Profits</th>\n",
       "      <th>Employees</th>\n",
       "      <th>Sector</th>\n",
       "      <th>Industry</th>\n",
       "    </tr>\n",
       "  </thead>\n",
       "  <tbody>\n",
       "    <tr>\n",
       "      <th>1</th>\n",
       "      <td>Exxon Mobil</td>\n",
       "      <td>244363.0</td>\n",
       "      <td>19710.0</td>\n",
       "      <td>71200</td>\n",
       "      <td>Energy</td>\n",
       "      <td>Petroleum Refining</td>\n",
       "    </tr>\n",
       "    <tr>\n",
       "      <th>2</th>\n",
       "      <td>Berkshire Hathaway</td>\n",
       "      <td>242137.0</td>\n",
       "      <td>44940.0</td>\n",
       "      <td>377000</td>\n",
       "      <td>Financials</td>\n",
       "      <td>Insurance: Property and Casualty (Stock)</td>\n",
       "    </tr>\n",
       "    <tr>\n",
       "      <th>3</th>\n",
       "      <td>Apple</td>\n",
       "      <td>229234.0</td>\n",
       "      <td>48351.0</td>\n",
       "      <td>123000</td>\n",
       "      <td>Technology</td>\n",
       "      <td>Computers, Office Equipment</td>\n",
       "    </tr>\n",
       "    <tr>\n",
       "      <th>4</th>\n",
       "      <td>UnitedHealth Group</td>\n",
       "      <td>201159.0</td>\n",
       "      <td>10558.0</td>\n",
       "      <td>260000</td>\n",
       "      <td>Health Care</td>\n",
       "      <td>Health Care: Insurance and Managed Care</td>\n",
       "    </tr>\n",
       "    <tr>\n",
       "      <th>6</th>\n",
       "      <td>CVS Health</td>\n",
       "      <td>184765.0</td>\n",
       "      <td>6622.0</td>\n",
       "      <td>203000</td>\n",
       "      <td>Health Care</td>\n",
       "      <td>Health Care: Pharmacy and Other Services</td>\n",
       "    </tr>\n",
       "    <tr>\n",
       "      <th>...</th>\n",
       "      <td>...</td>\n",
       "      <td>...</td>\n",
       "      <td>...</td>\n",
       "      <td>...</td>\n",
       "      <td>...</td>\n",
       "      <td>...</td>\n",
       "    </tr>\n",
       "    <tr>\n",
       "      <th>994</th>\n",
       "      <td>Healthcare Services Group</td>\n",
       "      <td>1866.0</td>\n",
       "      <td>88.2</td>\n",
       "      <td>55000</td>\n",
       "      <td>Health Care</td>\n",
       "      <td>Health Care: Pharmacy and Other Services</td>\n",
       "    </tr>\n",
       "    <tr>\n",
       "      <th>996</th>\n",
       "      <td>Charles River Laboratories Intl</td>\n",
       "      <td>1858.0</td>\n",
       "      <td>123.4</td>\n",
       "      <td>11800</td>\n",
       "      <td>Health Care</td>\n",
       "      <td>Health Care: Pharmacy and Other Services</td>\n",
       "    </tr>\n",
       "    <tr>\n",
       "      <th>997</th>\n",
       "      <td>CoreLogic</td>\n",
       "      <td>1851.0</td>\n",
       "      <td>152.2</td>\n",
       "      <td>5900</td>\n",
       "      <td>Business Services</td>\n",
       "      <td>Financial Data Services</td>\n",
       "    </tr>\n",
       "    <tr>\n",
       "      <th>998</th>\n",
       "      <td>Ensign Group</td>\n",
       "      <td>1849.0</td>\n",
       "      <td>40.5</td>\n",
       "      <td>21301</td>\n",
       "      <td>Health Care</td>\n",
       "      <td>Health Care: Medical Facilities</td>\n",
       "    </tr>\n",
       "    <tr>\n",
       "      <th>999</th>\n",
       "      <td>HCP</td>\n",
       "      <td>1848.0</td>\n",
       "      <td>414.2</td>\n",
       "      <td>190</td>\n",
       "      <td>Financials</td>\n",
       "      <td>Real estate</td>\n",
       "    </tr>\n",
       "  </tbody>\n",
       "</table>\n",
       "<p>879 rows × 6 columns</p>\n",
       "</div>"
      ],
      "text/plain": [
       "                             Company  Revenues  Profits  Employees  \\\n",
       "1                        Exxon Mobil  244363.0  19710.0      71200   \n",
       "2                 Berkshire Hathaway  242137.0  44940.0     377000   \n",
       "3                              Apple  229234.0  48351.0     123000   \n",
       "4                 UnitedHealth Group  201159.0  10558.0     260000   \n",
       "6                         CVS Health  184765.0   6622.0     203000   \n",
       "..                               ...       ...      ...        ...   \n",
       "994        Healthcare Services Group    1866.0     88.2      55000   \n",
       "996  Charles River Laboratories Intl    1858.0    123.4      11800   \n",
       "997                        CoreLogic    1851.0    152.2       5900   \n",
       "998                     Ensign Group    1849.0     40.5      21301   \n",
       "999                              HCP    1848.0    414.2        190   \n",
       "\n",
       "                Sector                                  Industry  \n",
       "1               Energy                        Petroleum Refining  \n",
       "2           Financials  Insurance: Property and Casualty (Stock)  \n",
       "3           Technology               Computers, Office Equipment  \n",
       "4          Health Care   Health Care: Insurance and Managed Care  \n",
       "6          Health Care  Health Care: Pharmacy and Other Services  \n",
       "..                 ...                                       ...  \n",
       "994        Health Care  Health Care: Pharmacy and Other Services  \n",
       "996        Health Care  Health Care: Pharmacy and Other Services  \n",
       "997  Business Services                   Financial Data Services  \n",
       "998        Health Care           Health Care: Medical Facilities  \n",
       "999         Financials                               Real estate  \n",
       "\n",
       "[879 rows x 6 columns]"
      ]
     },
     "execution_count": 55,
     "metadata": {},
     "output_type": "execute_result"
    }
   ],
   "source": [
    "# Comparison with the `in` operator\n",
    "df_fortune.query(\"Sector not in ('Retailing', 'Wholesalers')\")"
   ]
  },
  {
   "cell_type": "code",
   "execution_count": 56,
   "metadata": {},
   "outputs": [
    {
     "data": {
      "text/html": [
       "<div>\n",
       "<style scoped>\n",
       "    .dataframe tbody tr th:only-of-type {\n",
       "        vertical-align: middle;\n",
       "    }\n",
       "\n",
       "    .dataframe tbody tr th {\n",
       "        vertical-align: top;\n",
       "    }\n",
       "\n",
       "    .dataframe thead th {\n",
       "        text-align: right;\n",
       "    }\n",
       "</style>\n",
       "<table border=\"1\" class=\"dataframe\">\n",
       "  <thead>\n",
       "    <tr style=\"text-align: right;\">\n",
       "      <th></th>\n",
       "      <th>Company</th>\n",
       "      <th>Revenues</th>\n",
       "      <th>Profits</th>\n",
       "      <th>Employees</th>\n",
       "      <th>Sector</th>\n",
       "      <th>Industry</th>\n",
       "    </tr>\n",
       "  </thead>\n",
       "  <tbody>\n",
       "    <tr>\n",
       "      <th>1</th>\n",
       "      <td>Exxon Mobil</td>\n",
       "      <td>244363.0</td>\n",
       "      <td>19710.0</td>\n",
       "      <td>71200</td>\n",
       "      <td>Energy</td>\n",
       "      <td>Petroleum Refining</td>\n",
       "    </tr>\n",
       "    <tr>\n",
       "      <th>2</th>\n",
       "      <td>Berkshire Hathaway</td>\n",
       "      <td>242137.0</td>\n",
       "      <td>44940.0</td>\n",
       "      <td>377000</td>\n",
       "      <td>Financials</td>\n",
       "      <td>Insurance: Property and Casualty (Stock)</td>\n",
       "    </tr>\n",
       "    <tr>\n",
       "      <th>3</th>\n",
       "      <td>Apple</td>\n",
       "      <td>229234.0</td>\n",
       "      <td>48351.0</td>\n",
       "      <td>123000</td>\n",
       "      <td>Technology</td>\n",
       "      <td>Computers, Office Equipment</td>\n",
       "    </tr>\n",
       "    <tr>\n",
       "      <th>4</th>\n",
       "      <td>UnitedHealth Group</td>\n",
       "      <td>201159.0</td>\n",
       "      <td>10558.0</td>\n",
       "      <td>260000</td>\n",
       "      <td>Health Care</td>\n",
       "      <td>Health Care: Insurance and Managed Care</td>\n",
       "    </tr>\n",
       "    <tr>\n",
       "      <th>6</th>\n",
       "      <td>CVS Health</td>\n",
       "      <td>184765.0</td>\n",
       "      <td>6622.0</td>\n",
       "      <td>203000</td>\n",
       "      <td>Health Care</td>\n",
       "      <td>Health Care: Pharmacy and Other Services</td>\n",
       "    </tr>\n",
       "    <tr>\n",
       "      <th>...</th>\n",
       "      <td>...</td>\n",
       "      <td>...</td>\n",
       "      <td>...</td>\n",
       "      <td>...</td>\n",
       "      <td>...</td>\n",
       "      <td>...</td>\n",
       "    </tr>\n",
       "    <tr>\n",
       "      <th>994</th>\n",
       "      <td>Healthcare Services Group</td>\n",
       "      <td>1866.0</td>\n",
       "      <td>88.2</td>\n",
       "      <td>55000</td>\n",
       "      <td>Health Care</td>\n",
       "      <td>Health Care: Pharmacy and Other Services</td>\n",
       "    </tr>\n",
       "    <tr>\n",
       "      <th>996</th>\n",
       "      <td>Charles River Laboratories Intl</td>\n",
       "      <td>1858.0</td>\n",
       "      <td>123.4</td>\n",
       "      <td>11800</td>\n",
       "      <td>Health Care</td>\n",
       "      <td>Health Care: Pharmacy and Other Services</td>\n",
       "    </tr>\n",
       "    <tr>\n",
       "      <th>997</th>\n",
       "      <td>CoreLogic</td>\n",
       "      <td>1851.0</td>\n",
       "      <td>152.2</td>\n",
       "      <td>5900</td>\n",
       "      <td>Business Services</td>\n",
       "      <td>Financial Data Services</td>\n",
       "    </tr>\n",
       "    <tr>\n",
       "      <th>998</th>\n",
       "      <td>Ensign Group</td>\n",
       "      <td>1849.0</td>\n",
       "      <td>40.5</td>\n",
       "      <td>21301</td>\n",
       "      <td>Health Care</td>\n",
       "      <td>Health Care: Medical Facilities</td>\n",
       "    </tr>\n",
       "    <tr>\n",
       "      <th>999</th>\n",
       "      <td>HCP</td>\n",
       "      <td>1848.0</td>\n",
       "      <td>414.2</td>\n",
       "      <td>190</td>\n",
       "      <td>Financials</td>\n",
       "      <td>Real estate</td>\n",
       "    </tr>\n",
       "  </tbody>\n",
       "</table>\n",
       "<p>879 rows × 6 columns</p>\n",
       "</div>"
      ],
      "text/plain": [
       "                             Company  Revenues  Profits  Employees  \\\n",
       "1                        Exxon Mobil  244363.0  19710.0      71200   \n",
       "2                 Berkshire Hathaway  242137.0  44940.0     377000   \n",
       "3                              Apple  229234.0  48351.0     123000   \n",
       "4                 UnitedHealth Group  201159.0  10558.0     260000   \n",
       "6                         CVS Health  184765.0   6622.0     203000   \n",
       "..                               ...       ...      ...        ...   \n",
       "994        Healthcare Services Group    1866.0     88.2      55000   \n",
       "996  Charles River Laboratories Intl    1858.0    123.4      11800   \n",
       "997                        CoreLogic    1851.0    152.2       5900   \n",
       "998                     Ensign Group    1849.0     40.5      21301   \n",
       "999                              HCP    1848.0    414.2        190   \n",
       "\n",
       "                Sector                                  Industry  \n",
       "1               Energy                        Petroleum Refining  \n",
       "2           Financials  Insurance: Property and Casualty (Stock)  \n",
       "3           Technology               Computers, Office Equipment  \n",
       "4          Health Care   Health Care: Insurance and Managed Care  \n",
       "6          Health Care  Health Care: Pharmacy and Other Services  \n",
       "..                 ...                                       ...  \n",
       "994        Health Care  Health Care: Pharmacy and Other Services  \n",
       "996        Health Care  Health Care: Pharmacy and Other Services  \n",
       "997  Business Services                   Financial Data Services  \n",
       "998        Health Care           Health Care: Medical Facilities  \n",
       "999         Financials                               Real estate  \n",
       "\n",
       "[879 rows x 6 columns]"
      ]
     },
     "execution_count": 56,
     "metadata": {},
     "output_type": "execute_result"
    }
   ],
   "source": [
    "# Comparison with the `in` operator\n",
    "values = [\"Retailing\", \"Wholesalers\"]\n",
    "df_fortune.query(\"Sector not in @values\")"
   ]
  },
  {
   "cell_type": "code",
   "execution_count": 57,
   "metadata": {},
   "outputs": [
    {
     "data": {
      "text/html": [
       "<div>\n",
       "<style scoped>\n",
       "    .dataframe tbody tr th:only-of-type {\n",
       "        vertical-align: middle;\n",
       "    }\n",
       "\n",
       "    .dataframe tbody tr th {\n",
       "        vertical-align: top;\n",
       "    }\n",
       "\n",
       "    .dataframe thead th {\n",
       "        text-align: right;\n",
       "    }\n",
       "</style>\n",
       "<table border=\"1\" class=\"dataframe\">\n",
       "  <thead>\n",
       "    <tr style=\"text-align: right;\">\n",
       "      <th></th>\n",
       "      <th>Company</th>\n",
       "      <th>Revenues</th>\n",
       "      <th>Profits</th>\n",
       "      <th>Employees</th>\n",
       "      <th>Sector</th>\n",
       "      <th>Industry</th>\n",
       "    </tr>\n",
       "  </thead>\n",
       "  <tbody>\n",
       "    <tr>\n",
       "      <th>0</th>\n",
       "      <td>Walmart</td>\n",
       "      <td>500343.0</td>\n",
       "      <td>9862.0</td>\n",
       "      <td>2300000</td>\n",
       "      <td>Retailing</td>\n",
       "      <td>General Merchandisers</td>\n",
       "    </tr>\n",
       "    <tr>\n",
       "      <th>2</th>\n",
       "      <td>Berkshire Hathaway</td>\n",
       "      <td>242137.0</td>\n",
       "      <td>44940.0</td>\n",
       "      <td>377000</td>\n",
       "      <td>Financials</td>\n",
       "      <td>Insurance: Property and Casualty (Stock)</td>\n",
       "    </tr>\n",
       "    <tr>\n",
       "      <th>3</th>\n",
       "      <td>Apple</td>\n",
       "      <td>229234.0</td>\n",
       "      <td>48351.0</td>\n",
       "      <td>123000</td>\n",
       "      <td>Technology</td>\n",
       "      <td>Computers, Office Equipment</td>\n",
       "    </tr>\n",
       "    <tr>\n",
       "      <th>4</th>\n",
       "      <td>UnitedHealth Group</td>\n",
       "      <td>201159.0</td>\n",
       "      <td>10558.0</td>\n",
       "      <td>260000</td>\n",
       "      <td>Health Care</td>\n",
       "      <td>Health Care: Insurance and Managed Care</td>\n",
       "    </tr>\n",
       "    <tr>\n",
       "      <th>5</th>\n",
       "      <td>McKesson</td>\n",
       "      <td>198533.0</td>\n",
       "      <td>5070.0</td>\n",
       "      <td>64500</td>\n",
       "      <td>Wholesalers</td>\n",
       "      <td>Wholesalers: Health Care</td>\n",
       "    </tr>\n",
       "    <tr>\n",
       "      <th>...</th>\n",
       "      <td>...</td>\n",
       "      <td>...</td>\n",
       "      <td>...</td>\n",
       "      <td>...</td>\n",
       "      <td>...</td>\n",
       "      <td>...</td>\n",
       "    </tr>\n",
       "    <tr>\n",
       "      <th>995</th>\n",
       "      <td>SiteOne Landscape Supply</td>\n",
       "      <td>1862.0</td>\n",
       "      <td>54.6</td>\n",
       "      <td>3664</td>\n",
       "      <td>Wholesalers</td>\n",
       "      <td>Wholesalers: Diversified</td>\n",
       "    </tr>\n",
       "    <tr>\n",
       "      <th>996</th>\n",
       "      <td>Charles River Laboratories Intl</td>\n",
       "      <td>1858.0</td>\n",
       "      <td>123.4</td>\n",
       "      <td>11800</td>\n",
       "      <td>Health Care</td>\n",
       "      <td>Health Care: Pharmacy and Other Services</td>\n",
       "    </tr>\n",
       "    <tr>\n",
       "      <th>997</th>\n",
       "      <td>CoreLogic</td>\n",
       "      <td>1851.0</td>\n",
       "      <td>152.2</td>\n",
       "      <td>5900</td>\n",
       "      <td>Business Services</td>\n",
       "      <td>Financial Data Services</td>\n",
       "    </tr>\n",
       "    <tr>\n",
       "      <th>998</th>\n",
       "      <td>Ensign Group</td>\n",
       "      <td>1849.0</td>\n",
       "      <td>40.5</td>\n",
       "      <td>21301</td>\n",
       "      <td>Health Care</td>\n",
       "      <td>Health Care: Medical Facilities</td>\n",
       "    </tr>\n",
       "    <tr>\n",
       "      <th>999</th>\n",
       "      <td>HCP</td>\n",
       "      <td>1848.0</td>\n",
       "      <td>414.2</td>\n",
       "      <td>190</td>\n",
       "      <td>Financials</td>\n",
       "      <td>Real estate</td>\n",
       "    </tr>\n",
       "  </tbody>\n",
       "</table>\n",
       "<p>868 rows × 6 columns</p>\n",
       "</div>"
      ],
      "text/plain": [
       "                             Company  Revenues  Profits  Employees  \\\n",
       "0                            Walmart  500343.0   9862.0    2300000   \n",
       "2                 Berkshire Hathaway  242137.0  44940.0     377000   \n",
       "3                              Apple  229234.0  48351.0     123000   \n",
       "4                 UnitedHealth Group  201159.0  10558.0     260000   \n",
       "5                           McKesson  198533.0   5070.0      64500   \n",
       "..                               ...       ...      ...        ...   \n",
       "995         SiteOne Landscape Supply    1862.0     54.6       3664   \n",
       "996  Charles River Laboratories Intl    1858.0    123.4      11800   \n",
       "997                        CoreLogic    1851.0    152.2       5900   \n",
       "998                     Ensign Group    1849.0     40.5      21301   \n",
       "999                              HCP    1848.0    414.2        190   \n",
       "\n",
       "                Sector                                  Industry  \n",
       "0            Retailing                     General Merchandisers  \n",
       "2           Financials  Insurance: Property and Casualty (Stock)  \n",
       "3           Technology               Computers, Office Equipment  \n",
       "4          Health Care   Health Care: Insurance and Managed Care  \n",
       "5          Wholesalers                  Wholesalers: Health Care  \n",
       "..                 ...                                       ...  \n",
       "995        Wholesalers                  Wholesalers: Diversified  \n",
       "996        Health Care  Health Care: Pharmacy and Other Services  \n",
       "997  Business Services                   Financial Data Services  \n",
       "998        Health Care           Health Care: Medical Facilities  \n",
       "999         Financials                               Real estate  \n",
       "\n",
       "[868 rows x 6 columns]"
      ]
     },
     "execution_count": 57,
     "metadata": {},
     "output_type": "execute_result"
    }
   ],
   "source": [
    "# Comparison with the `not` operator\n",
    "values = [\"Media\", \"Energy\"]\n",
    "df_fortune.query(\"Sector not in @values\")"
   ]
  },
  {
   "cell_type": "code",
   "execution_count": 58,
   "metadata": {},
   "outputs": [
    {
     "data": {
      "text/html": [
       "<div>\n",
       "<style scoped>\n",
       "    .dataframe tbody tr th:only-of-type {\n",
       "        vertical-align: middle;\n",
       "    }\n",
       "\n",
       "    .dataframe tbody tr th {\n",
       "        vertical-align: top;\n",
       "    }\n",
       "\n",
       "    .dataframe thead th {\n",
       "        text-align: right;\n",
       "    }\n",
       "</style>\n",
       "<table border=\"1\" class=\"dataframe\">\n",
       "  <thead>\n",
       "    <tr style=\"text-align: right;\">\n",
       "      <th></th>\n",
       "      <th>Company</th>\n",
       "      <th>Revenues</th>\n",
       "      <th>Profits</th>\n",
       "      <th>Employees</th>\n",
       "      <th>Sector</th>\n",
       "      <th>Industry</th>\n",
       "    </tr>\n",
       "  </thead>\n",
       "  <tbody>\n",
       "    <tr>\n",
       "      <th>469</th>\n",
       "      <td>KKR</td>\n",
       "      <td>5930.0</td>\n",
       "      <td>1018.3</td>\n",
       "      <td>1184</td>\n",
       "      <td>Financials</td>\n",
       "      <td>Securities</td>\n",
       "    </tr>\n",
       "    <tr>\n",
       "      <th>488</th>\n",
       "      <td>Cheniere Energy</td>\n",
       "      <td>5601.0</td>\n",
       "      <td>-393.0</td>\n",
       "      <td>1230</td>\n",
       "      <td>Energy</td>\n",
       "      <td>Energy</td>\n",
       "    </tr>\n",
       "    <tr>\n",
       "      <th>637</th>\n",
       "      <td>Landstar System</td>\n",
       "      <td>3649.0</td>\n",
       "      <td>177.1</td>\n",
       "      <td>1273</td>\n",
       "      <td>Transportation</td>\n",
       "      <td>Trucking, Truck Leasing</td>\n",
       "    </tr>\n",
       "    <tr>\n",
       "      <th>647</th>\n",
       "      <td>Green Plains</td>\n",
       "      <td>3596.0</td>\n",
       "      <td>61.1</td>\n",
       "      <td>1427</td>\n",
       "      <td>Energy</td>\n",
       "      <td>Energy</td>\n",
       "    </tr>\n",
       "    <tr>\n",
       "      <th>711</th>\n",
       "      <td>Mutual of America Life Insurance</td>\n",
       "      <td>3163.0</td>\n",
       "      <td>26.2</td>\n",
       "      <td>1079</td>\n",
       "      <td>Financials</td>\n",
       "      <td>Insurance: Life, Health (Mutual)</td>\n",
       "    </tr>\n",
       "    <tr>\n",
       "      <th>719</th>\n",
       "      <td>Continental Resources</td>\n",
       "      <td>3121.0</td>\n",
       "      <td>789.4</td>\n",
       "      <td>1127</td>\n",
       "      <td>Energy</td>\n",
       "      <td>Mining, Crude-Oil Production</td>\n",
       "    </tr>\n",
       "    <tr>\n",
       "      <th>751</th>\n",
       "      <td>Apollo Global Management</td>\n",
       "      <td>2884.0</td>\n",
       "      <td>629.1</td>\n",
       "      <td>1047</td>\n",
       "      <td>Financials</td>\n",
       "      <td>Securities</td>\n",
       "    </tr>\n",
       "    <tr>\n",
       "      <th>764</th>\n",
       "      <td>TRI Pointe Group</td>\n",
       "      <td>2810.0</td>\n",
       "      <td>187.2</td>\n",
       "      <td>1251</td>\n",
       "      <td>Engineering &amp; Construction</td>\n",
       "      <td>Homebuilders</td>\n",
       "    </tr>\n",
       "    <tr>\n",
       "      <th>812</th>\n",
       "      <td>Concho Resources</td>\n",
       "      <td>2586.0</td>\n",
       "      <td>956.0</td>\n",
       "      <td>1203</td>\n",
       "      <td>Energy</td>\n",
       "      <td>Mining, Crude-Oil Production</td>\n",
       "    </tr>\n",
       "    <tr>\n",
       "      <th>815</th>\n",
       "      <td>MDC Holdings</td>\n",
       "      <td>2578.0</td>\n",
       "      <td>141.8</td>\n",
       "      <td>1491</td>\n",
       "      <td>Engineering &amp; Construction</td>\n",
       "      <td>Homebuilders</td>\n",
       "    </tr>\n",
       "    <tr>\n",
       "      <th>838</th>\n",
       "      <td>Digital Realty Trust</td>\n",
       "      <td>2458.0</td>\n",
       "      <td>248.3</td>\n",
       "      <td>1429</td>\n",
       "      <td>Financials</td>\n",
       "      <td>Real estate</td>\n",
       "    </tr>\n",
       "    <tr>\n",
       "      <th>883</th>\n",
       "      <td>NLV Financial</td>\n",
       "      <td>2275.0</td>\n",
       "      <td>259.9</td>\n",
       "      <td>1065</td>\n",
       "      <td>Financials</td>\n",
       "      <td>Insurance: Life, Health (stock)</td>\n",
       "    </tr>\n",
       "    <tr>\n",
       "      <th>885</th>\n",
       "      <td>New Jersey Resources</td>\n",
       "      <td>2269.0</td>\n",
       "      <td>132.1</td>\n",
       "      <td>1052</td>\n",
       "      <td>Energy</td>\n",
       "      <td>Energy</td>\n",
       "    </tr>\n",
       "    <tr>\n",
       "      <th>901</th>\n",
       "      <td>Murphy Oil</td>\n",
       "      <td>2226.0</td>\n",
       "      <td>-311.8</td>\n",
       "      <td>1128</td>\n",
       "      <td>Energy</td>\n",
       "      <td>Mining, Crude-Oil Production</td>\n",
       "    </tr>\n",
       "    <tr>\n",
       "      <th>934</th>\n",
       "      <td>SemGroup</td>\n",
       "      <td>2082.0</td>\n",
       "      <td>-17.2</td>\n",
       "      <td>1220</td>\n",
       "      <td>Energy</td>\n",
       "      <td>Pipelines</td>\n",
       "    </tr>\n",
       "    <tr>\n",
       "      <th>953</th>\n",
       "      <td>California Resources</td>\n",
       "      <td>2006.0</td>\n",
       "      <td>-266.0</td>\n",
       "      <td>1450</td>\n",
       "      <td>Energy</td>\n",
       "      <td>Mining, Crude-Oil Production</td>\n",
       "    </tr>\n",
       "    <tr>\n",
       "      <th>962</th>\n",
       "      <td>M/I Homes</td>\n",
       "      <td>1962.0</td>\n",
       "      <td>72.1</td>\n",
       "      <td>1238</td>\n",
       "      <td>Engineering &amp; Construction</td>\n",
       "      <td>Homebuilders</td>\n",
       "    </tr>\n",
       "    <tr>\n",
       "      <th>977</th>\n",
       "      <td>Interactive Brokers Group</td>\n",
       "      <td>1927.0</td>\n",
       "      <td>76.0</td>\n",
       "      <td>1228</td>\n",
       "      <td>Financials</td>\n",
       "      <td>Securities</td>\n",
       "    </tr>\n",
       "    <tr>\n",
       "      <th>982</th>\n",
       "      <td>Beazer Homes USA</td>\n",
       "      <td>1916.0</td>\n",
       "      <td>31.8</td>\n",
       "      <td>1100</td>\n",
       "      <td>Engineering &amp; Construction</td>\n",
       "      <td>Homebuilders</td>\n",
       "    </tr>\n",
       "    <tr>\n",
       "      <th>985</th>\n",
       "      <td>Ohio National Mutual</td>\n",
       "      <td>1907.0</td>\n",
       "      <td>25.9</td>\n",
       "      <td>1300</td>\n",
       "      <td>Financials</td>\n",
       "      <td>Insurance: Life, Health (stock)</td>\n",
       "    </tr>\n",
       "  </tbody>\n",
       "</table>\n",
       "</div>"
      ],
      "text/plain": [
       "                              Company  Revenues  Profits  Employees  \\\n",
       "469                               KKR    5930.0   1018.3       1184   \n",
       "488                   Cheniere Energy    5601.0   -393.0       1230   \n",
       "637                   Landstar System    3649.0    177.1       1273   \n",
       "647                      Green Plains    3596.0     61.1       1427   \n",
       "711  Mutual of America Life Insurance    3163.0     26.2       1079   \n",
       "719             Continental Resources    3121.0    789.4       1127   \n",
       "751          Apollo Global Management    2884.0    629.1       1047   \n",
       "764                  TRI Pointe Group    2810.0    187.2       1251   \n",
       "812                  Concho Resources    2586.0    956.0       1203   \n",
       "815                      MDC Holdings    2578.0    141.8       1491   \n",
       "838              Digital Realty Trust    2458.0    248.3       1429   \n",
       "883                     NLV Financial    2275.0    259.9       1065   \n",
       "885              New Jersey Resources    2269.0    132.1       1052   \n",
       "901                        Murphy Oil    2226.0   -311.8       1128   \n",
       "934                          SemGroup    2082.0    -17.2       1220   \n",
       "953              California Resources    2006.0   -266.0       1450   \n",
       "962                         M/I Homes    1962.0     72.1       1238   \n",
       "977         Interactive Brokers Group    1927.0     76.0       1228   \n",
       "982                  Beazer Homes USA    1916.0     31.8       1100   \n",
       "985              Ohio National Mutual    1907.0     25.9       1300   \n",
       "\n",
       "                         Sector                          Industry  \n",
       "469                  Financials                        Securities  \n",
       "488                      Energy                            Energy  \n",
       "637              Transportation           Trucking, Truck Leasing  \n",
       "647                      Energy                            Energy  \n",
       "711                  Financials  Insurance: Life, Health (Mutual)  \n",
       "719                      Energy      Mining, Crude-Oil Production  \n",
       "751                  Financials                        Securities  \n",
       "764  Engineering & Construction                      Homebuilders  \n",
       "812                      Energy      Mining, Crude-Oil Production  \n",
       "815  Engineering & Construction                      Homebuilders  \n",
       "838                  Financials                       Real estate  \n",
       "883                  Financials   Insurance: Life, Health (stock)  \n",
       "885                      Energy                            Energy  \n",
       "901                      Energy      Mining, Crude-Oil Production  \n",
       "934                      Energy                         Pipelines  \n",
       "953                      Energy      Mining, Crude-Oil Production  \n",
       "962  Engineering & Construction                      Homebuilders  \n",
       "977                  Financials                        Securities  \n",
       "982  Engineering & Construction                      Homebuilders  \n",
       "985                  Financials   Insurance: Life, Health (stock)  "
      ]
     },
     "execution_count": 58,
     "metadata": {},
     "output_type": "execute_result"
    }
   ],
   "source": [
    "# Chained comparison\n",
    "df_fortune.query(\"1000 <= Employees <= 1500\")"
   ]
  },
  {
   "cell_type": "code",
   "execution_count": 59,
   "metadata": {},
   "outputs": [
    {
     "data": {
      "text/html": [
       "<div>\n",
       "<style scoped>\n",
       "    .dataframe tbody tr th:only-of-type {\n",
       "        vertical-align: middle;\n",
       "    }\n",
       "\n",
       "    .dataframe tbody tr th {\n",
       "        vertical-align: top;\n",
       "    }\n",
       "\n",
       "    .dataframe thead th {\n",
       "        text-align: right;\n",
       "    }\n",
       "</style>\n",
       "<table border=\"1\" class=\"dataframe\">\n",
       "  <thead>\n",
       "    <tr style=\"text-align: right;\">\n",
       "      <th></th>\n",
       "      <th>Company</th>\n",
       "      <th>Revenues</th>\n",
       "      <th>Profits</th>\n",
       "      <th>Employees</th>\n",
       "      <th>Sector</th>\n",
       "      <th>Industry</th>\n",
       "    </tr>\n",
       "  </thead>\n",
       "  <tbody>\n",
       "    <tr>\n",
       "      <th>31</th>\n",
       "      <td>Citigroup</td>\n",
       "      <td>87966.0</td>\n",
       "      <td>-6798.0</td>\n",
       "      <td>209000</td>\n",
       "      <td>Financials</td>\n",
       "      <td>Commercial Banks</td>\n",
       "    </tr>\n",
       "    <tr>\n",
       "      <th>59</th>\n",
       "      <td>AIG</td>\n",
       "      <td>49520.0</td>\n",
       "      <td>-6084.0</td>\n",
       "      <td>49800</td>\n",
       "      <td>Financials</td>\n",
       "      <td>Insurance: Property and Casualty (Stock)</td>\n",
       "    </tr>\n",
       "    <tr>\n",
       "      <th>155</th>\n",
       "      <td>Hartford Financial Services</td>\n",
       "      <td>19228.0</td>\n",
       "      <td>-3131.0</td>\n",
       "      <td>16400</td>\n",
       "      <td>Financials</td>\n",
       "      <td>Insurance: Property and Casualty (Stock)</td>\n",
       "    </tr>\n",
       "    <tr>\n",
       "      <th>252</th>\n",
       "      <td>Farmers Insurance Exchange</td>\n",
       "      <td>12072.0</td>\n",
       "      <td>-65.4</td>\n",
       "      <td>13015</td>\n",
       "      <td>Financials</td>\n",
       "      <td>Insurance: Property and Casualty (Mutual)</td>\n",
       "    </tr>\n",
       "    <tr>\n",
       "      <th>306</th>\n",
       "      <td>Voya Financial</td>\n",
       "      <td>9660.0</td>\n",
       "      <td>-2992.0</td>\n",
       "      <td>6300</td>\n",
       "      <td>Financials</td>\n",
       "      <td>Diversified Financials</td>\n",
       "    </tr>\n",
       "    <tr>\n",
       "      <th>468</th>\n",
       "      <td>AmTrust Financial Services</td>\n",
       "      <td>5959.0</td>\n",
       "      <td>-348.9</td>\n",
       "      <td>9300</td>\n",
       "      <td>Financials</td>\n",
       "      <td>Insurance: Property and Casualty (Stock)</td>\n",
       "    </tr>\n",
       "    <tr>\n",
       "      <th>761</th>\n",
       "      <td>Colony NorthStar</td>\n",
       "      <td>2842.0</td>\n",
       "      <td>-197.9</td>\n",
       "      <td>544</td>\n",
       "      <td>Financials</td>\n",
       "      <td>Real estate</td>\n",
       "    </tr>\n",
       "  </tbody>\n",
       "</table>\n",
       "</div>"
      ],
      "text/plain": [
       "                         Company  Revenues  Profits  Employees      Sector  \\\n",
       "31                     Citigroup   87966.0  -6798.0     209000  Financials   \n",
       "59                           AIG   49520.0  -6084.0      49800  Financials   \n",
       "155  Hartford Financial Services   19228.0  -3131.0      16400  Financials   \n",
       "252   Farmers Insurance Exchange   12072.0    -65.4      13015  Financials   \n",
       "306               Voya Financial    9660.0  -2992.0       6300  Financials   \n",
       "468   AmTrust Financial Services    5959.0   -348.9       9300  Financials   \n",
       "761             Colony NorthStar    2842.0   -197.9        544  Financials   \n",
       "\n",
       "                                      Industry  \n",
       "31                            Commercial Banks  \n",
       "59    Insurance: Property and Casualty (Stock)  \n",
       "155   Insurance: Property and Casualty (Stock)  \n",
       "252  Insurance: Property and Casualty (Mutual)  \n",
       "306                     Diversified Financials  \n",
       "468   Insurance: Property and Casualty (Stock)  \n",
       "761                                Real estate  "
      ]
     },
     "execution_count": 59,
     "metadata": {},
     "output_type": "execute_result"
    }
   ],
   "source": [
    "# Multiple comparisons\n",
    "# (logical AND can be represented as either & or `and`)\n",
    "df_fortune.query(\"Sector == 'Financials' and Profits <= 0\")"
   ]
  },
  {
   "cell_type": "code",
   "execution_count": 60,
   "metadata": {},
   "outputs": [
    {
     "data": {
      "text/html": [
       "<div>\n",
       "<style scoped>\n",
       "    .dataframe tbody tr th:only-of-type {\n",
       "        vertical-align: middle;\n",
       "    }\n",
       "\n",
       "    .dataframe tbody tr th {\n",
       "        vertical-align: top;\n",
       "    }\n",
       "\n",
       "    .dataframe thead th {\n",
       "        text-align: right;\n",
       "    }\n",
       "</style>\n",
       "<table border=\"1\" class=\"dataframe\">\n",
       "  <thead>\n",
       "    <tr style=\"text-align: right;\">\n",
       "      <th></th>\n",
       "      <th>Company</th>\n",
       "      <th>Revenues</th>\n",
       "      <th>Profits</th>\n",
       "      <th>Employees</th>\n",
       "      <th>Sector</th>\n",
       "      <th>Industry</th>\n",
       "    </tr>\n",
       "  </thead>\n",
       "  <tbody>\n",
       "    <tr>\n",
       "      <th>0</th>\n",
       "      <td>Walmart</td>\n",
       "      <td>500343.0</td>\n",
       "      <td>9862.0</td>\n",
       "      <td>2300000</td>\n",
       "      <td>Retailing</td>\n",
       "      <td>General Merchandisers</td>\n",
       "    </tr>\n",
       "    <tr>\n",
       "      <th>1</th>\n",
       "      <td>Exxon Mobil</td>\n",
       "      <td>244363.0</td>\n",
       "      <td>19710.0</td>\n",
       "      <td>71200</td>\n",
       "      <td>Energy</td>\n",
       "      <td>Petroleum Refining</td>\n",
       "    </tr>\n",
       "    <tr>\n",
       "      <th>2</th>\n",
       "      <td>Berkshire Hathaway</td>\n",
       "      <td>242137.0</td>\n",
       "      <td>44940.0</td>\n",
       "      <td>377000</td>\n",
       "      <td>Financials</td>\n",
       "      <td>Insurance: Property and Casualty (Stock)</td>\n",
       "    </tr>\n",
       "    <tr>\n",
       "      <th>3</th>\n",
       "      <td>Apple</td>\n",
       "      <td>229234.0</td>\n",
       "      <td>48351.0</td>\n",
       "      <td>123000</td>\n",
       "      <td>Technology</td>\n",
       "      <td>Computers, Office Equipment</td>\n",
       "    </tr>\n",
       "    <tr>\n",
       "      <th>4</th>\n",
       "      <td>UnitedHealth Group</td>\n",
       "      <td>201159.0</td>\n",
       "      <td>10558.0</td>\n",
       "      <td>260000</td>\n",
       "      <td>Health Care</td>\n",
       "      <td>Health Care: Insurance and Managed Care</td>\n",
       "    </tr>\n",
       "    <tr>\n",
       "      <th>...</th>\n",
       "      <td>...</td>\n",
       "      <td>...</td>\n",
       "      <td>...</td>\n",
       "      <td>...</td>\n",
       "      <td>...</td>\n",
       "      <td>...</td>\n",
       "    </tr>\n",
       "    <tr>\n",
       "      <th>989</th>\n",
       "      <td>Barnes &amp; Noble Education</td>\n",
       "      <td>1874.0</td>\n",
       "      <td>5.4</td>\n",
       "      <td>13375</td>\n",
       "      <td>Retailing</td>\n",
       "      <td>Specialty Retailers: Other</td>\n",
       "    </tr>\n",
       "    <tr>\n",
       "      <th>994</th>\n",
       "      <td>Healthcare Services Group</td>\n",
       "      <td>1866.0</td>\n",
       "      <td>88.2</td>\n",
       "      <td>55000</td>\n",
       "      <td>Health Care</td>\n",
       "      <td>Health Care: Pharmacy and Other Services</td>\n",
       "    </tr>\n",
       "    <tr>\n",
       "      <th>996</th>\n",
       "      <td>Charles River Laboratories Intl</td>\n",
       "      <td>1858.0</td>\n",
       "      <td>123.4</td>\n",
       "      <td>11800</td>\n",
       "      <td>Health Care</td>\n",
       "      <td>Health Care: Pharmacy and Other Services</td>\n",
       "    </tr>\n",
       "    <tr>\n",
       "      <th>998</th>\n",
       "      <td>Ensign Group</td>\n",
       "      <td>1849.0</td>\n",
       "      <td>40.5</td>\n",
       "      <td>21301</td>\n",
       "      <td>Health Care</td>\n",
       "      <td>Health Care: Medical Facilities</td>\n",
       "    </tr>\n",
       "    <tr>\n",
       "      <th>999</th>\n",
       "      <td>HCP</td>\n",
       "      <td>1848.0</td>\n",
       "      <td>414.2</td>\n",
       "      <td>190</td>\n",
       "      <td>Financials</td>\n",
       "      <td>Real estate</td>\n",
       "    </tr>\n",
       "  </tbody>\n",
       "</table>\n",
       "<p>683 rows × 6 columns</p>\n",
       "</div>"
      ],
      "text/plain": [
       "                             Company  Revenues  Profits  Employees  \\\n",
       "0                            Walmart  500343.0   9862.0    2300000   \n",
       "1                        Exxon Mobil  244363.0  19710.0      71200   \n",
       "2                 Berkshire Hathaway  242137.0  44940.0     377000   \n",
       "3                              Apple  229234.0  48351.0     123000   \n",
       "4                 UnitedHealth Group  201159.0  10558.0     260000   \n",
       "..                               ...       ...      ...        ...   \n",
       "989         Barnes & Noble Education    1874.0      5.4      13375   \n",
       "994        Healthcare Services Group    1866.0     88.2      55000   \n",
       "996  Charles River Laboratories Intl    1858.0    123.4      11800   \n",
       "998                     Ensign Group    1849.0     40.5      21301   \n",
       "999                              HCP    1848.0    414.2        190   \n",
       "\n",
       "          Sector                                  Industry  \n",
       "0      Retailing                     General Merchandisers  \n",
       "1         Energy                        Petroleum Refining  \n",
       "2     Financials  Insurance: Property and Casualty (Stock)  \n",
       "3     Technology               Computers, Office Equipment  \n",
       "4    Health Care   Health Care: Insurance and Managed Care  \n",
       "..           ...                                       ...  \n",
       "989    Retailing                Specialty Retailers: Other  \n",
       "994  Health Care  Health Care: Pharmacy and Other Services  \n",
       "996  Health Care  Health Care: Pharmacy and Other Services  \n",
       "998  Health Care           Health Care: Medical Facilities  \n",
       "999   Financials                               Real estate  \n",
       "\n",
       "[683 rows x 6 columns]"
      ]
     },
     "execution_count": 60,
     "metadata": {},
     "output_type": "execute_result"
    }
   ],
   "source": [
    "# Multiple comparisons\n",
    "# (logical OR can be represented as either | or `or`)\n",
    "df_fortune.query(\"Sector == 'Financials' | Employees >= 10000\")"
   ]
  },
  {
   "cell_type": "markdown",
   "metadata": {},
   "source": [
    "#### 4.2.3. Selecting Rows and Columns using `loc[]` and `iloc[]`"
   ]
  },
  {
   "cell_type": "markdown",
   "metadata": {},
   "source": [
    "When using `[]`, you can only select from one axis at once (rows or columns, not both). For more advanced indexing, Pandas provides two extra attributes: `loc[]` and `iloc[]`."
   ]
  },
  {
   "cell_type": "markdown",
   "metadata": {},
   "source": [
    "##### 4.2.3.1. `loc[]`"
   ]
  },
  {
   "cell_type": "markdown",
   "metadata": {},
   "source": [
    "<u>Label-based</u> indexing for selecting rows and columns by their labels."
   ]
  },
  {
   "cell_type": "code",
   "execution_count": 61,
   "metadata": {},
   "outputs": [
    {
     "data": {
      "text/html": [
       "<div>\n",
       "<style scoped>\n",
       "    .dataframe tbody tr th:only-of-type {\n",
       "        vertical-align: middle;\n",
       "    }\n",
       "\n",
       "    .dataframe tbody tr th {\n",
       "        vertical-align: top;\n",
       "    }\n",
       "\n",
       "    .dataframe thead th {\n",
       "        text-align: right;\n",
       "    }\n",
       "</style>\n",
       "<table border=\"1\" class=\"dataframe\">\n",
       "  <thead>\n",
       "    <tr style=\"text-align: right;\">\n",
       "      <th></th>\n",
       "      <th>Yellow</th>\n",
       "      <th>Green</th>\n",
       "      <th>Blue</th>\n",
       "    </tr>\n",
       "  </thead>\n",
       "  <tbody>\n",
       "    <tr>\n",
       "      <th>Apple</th>\n",
       "      <td>False</td>\n",
       "      <td>True</td>\n",
       "      <td>False</td>\n",
       "    </tr>\n",
       "    <tr>\n",
       "      <th>Avocado</th>\n",
       "      <td>False</td>\n",
       "      <td>True</td>\n",
       "      <td>False</td>\n",
       "    </tr>\n",
       "    <tr>\n",
       "      <th>Orange</th>\n",
       "      <td>True</td>\n",
       "      <td>True</td>\n",
       "      <td>False</td>\n",
       "    </tr>\n",
       "    <tr>\n",
       "      <th>Mango</th>\n",
       "      <td>True</td>\n",
       "      <td>True</td>\n",
       "      <td>False</td>\n",
       "    </tr>\n",
       "  </tbody>\n",
       "</table>\n",
       "</div>"
      ],
      "text/plain": [
       "         Yellow  Green   Blue\n",
       "Apple     False   True  False\n",
       "Avocado   False   True  False\n",
       "Orange     True   True  False\n",
       "Mango      True   True  False"
      ]
     },
     "execution_count": 61,
     "metadata": {},
     "output_type": "execute_result"
    }
   ],
   "source": [
    "# Practice dataframe\n",
    "df2 = pd.DataFrame(\n",
    "    {\n",
    "        \"Yellow\": [False, False, True, True],\n",
    "        \"Green\": [True, True, True, True],\n",
    "        \"Blue\": [False, False, False, False]\n",
    "    },\n",
    "    index=[\"Apple\", \"Avocado\", \"Orange\", \"Mango\"]\n",
    ")\n",
    "df2 "
   ]
  },
  {
   "cell_type": "code",
   "execution_count": 62,
   "metadata": {},
   "outputs": [
    {
     "data": {
      "text/plain": [
       "Yellow    False\n",
       "Green      True\n",
       "Blue      False\n",
       "Name: Apple, dtype: bool"
      ]
     },
     "execution_count": 62,
     "metadata": {},
     "output_type": "execute_result"
    }
   ],
   "source": [
    "# Selecting a single row by label\n",
    "# (return the row as a Series)\n",
    "df2.loc[\"Apple\"]"
   ]
  },
  {
   "cell_type": "code",
   "execution_count": 63,
   "metadata": {},
   "outputs": [
    {
     "data": {
      "text/html": [
       "<div>\n",
       "<style scoped>\n",
       "    .dataframe tbody tr th:only-of-type {\n",
       "        vertical-align: middle;\n",
       "    }\n",
       "\n",
       "    .dataframe tbody tr th {\n",
       "        vertical-align: top;\n",
       "    }\n",
       "\n",
       "    .dataframe thead th {\n",
       "        text-align: right;\n",
       "    }\n",
       "</style>\n",
       "<table border=\"1\" class=\"dataframe\">\n",
       "  <thead>\n",
       "    <tr style=\"text-align: right;\">\n",
       "      <th></th>\n",
       "      <th>Yellow</th>\n",
       "      <th>Green</th>\n",
       "      <th>Blue</th>\n",
       "    </tr>\n",
       "  </thead>\n",
       "  <tbody>\n",
       "    <tr>\n",
       "      <th>Apple</th>\n",
       "      <td>False</td>\n",
       "      <td>True</td>\n",
       "      <td>False</td>\n",
       "    </tr>\n",
       "  </tbody>\n",
       "</table>\n",
       "</div>"
      ],
      "text/plain": [
       "       Yellow  Green   Blue\n",
       "Apple   False   True  False"
      ]
     },
     "execution_count": 63,
     "metadata": {},
     "output_type": "execute_result"
    }
   ],
   "source": [
    "# Selecting a single row by label\n",
    "# (return the row as a DataFrame)\n",
    "df2.loc[[\"Apple\"]]"
   ]
  },
  {
   "cell_type": "code",
   "execution_count": 64,
   "metadata": {},
   "outputs": [
    {
     "data": {
      "text/html": [
       "<div>\n",
       "<style scoped>\n",
       "    .dataframe tbody tr th:only-of-type {\n",
       "        vertical-align: middle;\n",
       "    }\n",
       "\n",
       "    .dataframe tbody tr th {\n",
       "        vertical-align: top;\n",
       "    }\n",
       "\n",
       "    .dataframe thead th {\n",
       "        text-align: right;\n",
       "    }\n",
       "</style>\n",
       "<table border=\"1\" class=\"dataframe\">\n",
       "  <thead>\n",
       "    <tr style=\"text-align: right;\">\n",
       "      <th></th>\n",
       "      <th>Yellow</th>\n",
       "      <th>Green</th>\n",
       "      <th>Blue</th>\n",
       "    </tr>\n",
       "  </thead>\n",
       "  <tbody>\n",
       "    <tr>\n",
       "      <th>Apple</th>\n",
       "      <td>False</td>\n",
       "      <td>True</td>\n",
       "      <td>False</td>\n",
       "    </tr>\n",
       "    <tr>\n",
       "      <th>Orange</th>\n",
       "      <td>True</td>\n",
       "      <td>True</td>\n",
       "      <td>False</td>\n",
       "    </tr>\n",
       "  </tbody>\n",
       "</table>\n",
       "</div>"
      ],
      "text/plain": [
       "        Yellow  Green   Blue\n",
       "Apple    False   True  False\n",
       "Orange    True   True  False"
      ]
     },
     "execution_count": 64,
     "metadata": {},
     "output_type": "execute_result"
    }
   ],
   "source": [
    "# Selecting multiple rows by labels\n",
    "df2.loc[[\"Apple\", \"Orange\"]]"
   ]
  },
  {
   "cell_type": "code",
   "execution_count": 65,
   "metadata": {},
   "outputs": [
    {
     "data": {
      "text/html": [
       "<div>\n",
       "<style scoped>\n",
       "    .dataframe tbody tr th:only-of-type {\n",
       "        vertical-align: middle;\n",
       "    }\n",
       "\n",
       "    .dataframe tbody tr th {\n",
       "        vertical-align: top;\n",
       "    }\n",
       "\n",
       "    .dataframe thead th {\n",
       "        text-align: right;\n",
       "    }\n",
       "</style>\n",
       "<table border=\"1\" class=\"dataframe\">\n",
       "  <thead>\n",
       "    <tr style=\"text-align: right;\">\n",
       "      <th></th>\n",
       "      <th>Yellow</th>\n",
       "      <th>Green</th>\n",
       "      <th>Blue</th>\n",
       "    </tr>\n",
       "  </thead>\n",
       "  <tbody>\n",
       "    <tr>\n",
       "      <th>Avocado</th>\n",
       "      <td>False</td>\n",
       "      <td>True</td>\n",
       "      <td>False</td>\n",
       "    </tr>\n",
       "    <tr>\n",
       "      <th>Orange</th>\n",
       "      <td>True</td>\n",
       "      <td>True</td>\n",
       "      <td>False</td>\n",
       "    </tr>\n",
       "    <tr>\n",
       "      <th>Mango</th>\n",
       "      <td>True</td>\n",
       "      <td>True</td>\n",
       "      <td>False</td>\n",
       "    </tr>\n",
       "  </tbody>\n",
       "</table>\n",
       "</div>"
      ],
      "text/plain": [
       "         Yellow  Green   Blue\n",
       "Avocado   False   True  False\n",
       "Orange     True   True  False\n",
       "Mango      True   True  False"
      ]
     },
     "execution_count": 65,
     "metadata": {},
     "output_type": "execute_result"
    }
   ],
   "source": [
    "# Selecting multiple rows by labels\n",
    "df2.loc[\"Avocado\":\"Mango\"]"
   ]
  },
  {
   "cell_type": "code",
   "execution_count": 66,
   "metadata": {},
   "outputs": [
    {
     "data": {
      "text/plain": [
       "Apple      False\n",
       "Avocado    False\n",
       "Orange     False\n",
       "Mango      False\n",
       "Name: Blue, dtype: bool"
      ]
     },
     "execution_count": 66,
     "metadata": {},
     "output_type": "execute_result"
    }
   ],
   "source": [
    "# Selecting a single column by label\n",
    "df2.loc[:, \"Blue\"]"
   ]
  },
  {
   "cell_type": "code",
   "execution_count": 67,
   "metadata": {},
   "outputs": [
    {
     "data": {
      "text/html": [
       "<div>\n",
       "<style scoped>\n",
       "    .dataframe tbody tr th:only-of-type {\n",
       "        vertical-align: middle;\n",
       "    }\n",
       "\n",
       "    .dataframe tbody tr th {\n",
       "        vertical-align: top;\n",
       "    }\n",
       "\n",
       "    .dataframe thead th {\n",
       "        text-align: right;\n",
       "    }\n",
       "</style>\n",
       "<table border=\"1\" class=\"dataframe\">\n",
       "  <thead>\n",
       "    <tr style=\"text-align: right;\">\n",
       "      <th></th>\n",
       "      <th>Yellow</th>\n",
       "      <th>Green</th>\n",
       "      <th>Blue</th>\n",
       "    </tr>\n",
       "  </thead>\n",
       "  <tbody>\n",
       "    <tr>\n",
       "      <th>Apple</th>\n",
       "      <td>False</td>\n",
       "      <td>True</td>\n",
       "      <td>False</td>\n",
       "    </tr>\n",
       "    <tr>\n",
       "      <th>Avocado</th>\n",
       "      <td>False</td>\n",
       "      <td>True</td>\n",
       "      <td>False</td>\n",
       "    </tr>\n",
       "    <tr>\n",
       "      <th>Orange</th>\n",
       "      <td>True</td>\n",
       "      <td>True</td>\n",
       "      <td>False</td>\n",
       "    </tr>\n",
       "    <tr>\n",
       "      <th>Mango</th>\n",
       "      <td>True</td>\n",
       "      <td>True</td>\n",
       "      <td>False</td>\n",
       "    </tr>\n",
       "  </tbody>\n",
       "</table>\n",
       "</div>"
      ],
      "text/plain": [
       "         Yellow  Green   Blue\n",
       "Apple     False   True  False\n",
       "Avocado   False   True  False\n",
       "Orange     True   True  False\n",
       "Mango      True   True  False"
      ]
     },
     "execution_count": 67,
     "metadata": {},
     "output_type": "execute_result"
    }
   ],
   "source": [
    "# Selecting a multiple columns by label\n",
    "df2.loc[:, \"Yellow\":\"Blue\"]"
   ]
  },
  {
   "cell_type": "code",
   "execution_count": 68,
   "metadata": {},
   "outputs": [
    {
     "data": {
      "text/html": [
       "<div>\n",
       "<style scoped>\n",
       "    .dataframe tbody tr th:only-of-type {\n",
       "        vertical-align: middle;\n",
       "    }\n",
       "\n",
       "    .dataframe tbody tr th {\n",
       "        vertical-align: top;\n",
       "    }\n",
       "\n",
       "    .dataframe thead th {\n",
       "        text-align: right;\n",
       "    }\n",
       "</style>\n",
       "<table border=\"1\" class=\"dataframe\">\n",
       "  <thead>\n",
       "    <tr style=\"text-align: right;\">\n",
       "      <th></th>\n",
       "      <th>Blue</th>\n",
       "      <th>Green</th>\n",
       "    </tr>\n",
       "  </thead>\n",
       "  <tbody>\n",
       "    <tr>\n",
       "      <th>Apple</th>\n",
       "      <td>False</td>\n",
       "      <td>True</td>\n",
       "    </tr>\n",
       "    <tr>\n",
       "      <th>Avocado</th>\n",
       "      <td>False</td>\n",
       "      <td>True</td>\n",
       "    </tr>\n",
       "    <tr>\n",
       "      <th>Orange</th>\n",
       "      <td>False</td>\n",
       "      <td>True</td>\n",
       "    </tr>\n",
       "    <tr>\n",
       "      <th>Mango</th>\n",
       "      <td>False</td>\n",
       "      <td>True</td>\n",
       "    </tr>\n",
       "  </tbody>\n",
       "</table>\n",
       "</div>"
      ],
      "text/plain": [
       "          Blue  Green\n",
       "Apple    False   True\n",
       "Avocado  False   True\n",
       "Orange   False   True\n",
       "Mango    False   True"
      ]
     },
     "execution_count": 68,
     "metadata": {},
     "output_type": "execute_result"
    }
   ],
   "source": [
    "# Selecting a multiple columns by label\n",
    "df2.loc[:, [\"Blue\", \"Green\"]]"
   ]
  },
  {
   "cell_type": "code",
   "execution_count": 69,
   "metadata": {},
   "outputs": [
    {
     "data": {
      "text/plain": [
       "False"
      ]
     },
     "execution_count": 69,
     "metadata": {},
     "output_type": "execute_result"
    }
   ],
   "source": [
    "# Single label for row and column\n",
    "df2.loc[\"Avocado\", \"Yellow\"]"
   ]
  },
  {
   "cell_type": "code",
   "execution_count": 70,
   "metadata": {},
   "outputs": [
    {
     "data": {
      "text/plain": [
       "Mango      False\n",
       "Avocado    False\n",
       "Name: Blue, dtype: bool"
      ]
     },
     "execution_count": 70,
     "metadata": {},
     "output_type": "execute_result"
    }
   ],
   "source": [
    "# Selecting multiple rows and columns by labels\n",
    "df2.loc[[\"Mango\", \"Avocado\"], \"Blue\"]"
   ]
  },
  {
   "cell_type": "code",
   "execution_count": 71,
   "metadata": {},
   "outputs": [
    {
     "data": {
      "text/html": [
       "<div>\n",
       "<style scoped>\n",
       "    .dataframe tbody tr th:only-of-type {\n",
       "        vertical-align: middle;\n",
       "    }\n",
       "\n",
       "    .dataframe tbody tr th {\n",
       "        vertical-align: top;\n",
       "    }\n",
       "\n",
       "    .dataframe thead th {\n",
       "        text-align: right;\n",
       "    }\n",
       "</style>\n",
       "<table border=\"1\" class=\"dataframe\">\n",
       "  <thead>\n",
       "    <tr style=\"text-align: right;\">\n",
       "      <th></th>\n",
       "      <th>Blue</th>\n",
       "      <th>Yellow</th>\n",
       "    </tr>\n",
       "  </thead>\n",
       "  <tbody>\n",
       "    <tr>\n",
       "      <th>Mango</th>\n",
       "      <td>False</td>\n",
       "      <td>True</td>\n",
       "    </tr>\n",
       "    <tr>\n",
       "      <th>Avocado</th>\n",
       "      <td>False</td>\n",
       "      <td>False</td>\n",
       "    </tr>\n",
       "  </tbody>\n",
       "</table>\n",
       "</div>"
      ],
      "text/plain": [
       "          Blue  Yellow\n",
       "Mango    False    True\n",
       "Avocado  False   False"
      ]
     },
     "execution_count": 71,
     "metadata": {},
     "output_type": "execute_result"
    }
   ],
   "source": [
    "# Selecting multiple rows and columns by labels\n",
    "df2.loc[[\"Mango\", \"Avocado\"], [\"Blue\", \"Yellow\"]]"
   ]
  },
  {
   "cell_type": "code",
   "execution_count": 72,
   "metadata": {},
   "outputs": [
    {
     "data": {
      "text/html": [
       "<div>\n",
       "<style scoped>\n",
       "    .dataframe tbody tr th:only-of-type {\n",
       "        vertical-align: middle;\n",
       "    }\n",
       "\n",
       "    .dataframe tbody tr th {\n",
       "        vertical-align: top;\n",
       "    }\n",
       "\n",
       "    .dataframe thead th {\n",
       "        text-align: right;\n",
       "    }\n",
       "</style>\n",
       "<table border=\"1\" class=\"dataframe\">\n",
       "  <thead>\n",
       "    <tr style=\"text-align: right;\">\n",
       "      <th></th>\n",
       "      <th>Yellow</th>\n",
       "      <th>Green</th>\n",
       "      <th>Blue</th>\n",
       "    </tr>\n",
       "  </thead>\n",
       "  <tbody>\n",
       "    <tr>\n",
       "      <th>Apple</th>\n",
       "      <td>False</td>\n",
       "      <td>True</td>\n",
       "      <td>False</td>\n",
       "    </tr>\n",
       "    <tr>\n",
       "      <th>Avocado</th>\n",
       "      <td>False</td>\n",
       "      <td>True</td>\n",
       "      <td>False</td>\n",
       "    </tr>\n",
       "    <tr>\n",
       "      <th>Orange</th>\n",
       "      <td>True</td>\n",
       "      <td>True</td>\n",
       "      <td>False</td>\n",
       "    </tr>\n",
       "    <tr>\n",
       "      <th>Mango</th>\n",
       "      <td>True</td>\n",
       "      <td>True</td>\n",
       "      <td>False</td>\n",
       "    </tr>\n",
       "  </tbody>\n",
       "</table>\n",
       "</div>"
      ],
      "text/plain": [
       "         Yellow  Green   Blue\n",
       "Apple     False   True  False\n",
       "Avocado   False   True  False\n",
       "Orange     True   True  False\n",
       "Mango      True   True  False"
      ]
     },
     "execution_count": 72,
     "metadata": {},
     "output_type": "execute_result"
    }
   ],
   "source": [
    "# Selecting using boolean indexing\n",
    "df2.loc[:, ]"
   ]
  },
  {
   "cell_type": "markdown",
   "metadata": {},
   "source": [
    "##### 4.2.3.2. `iloc[]`"
   ]
  },
  {
   "cell_type": "markdown",
   "metadata": {},
   "source": [
    "<u>Integer-based</u> indexing for selecting rows and columns by their integer positions. It works similar as indexing `numpy` arrays:"
   ]
  },
  {
   "cell_type": "code",
   "execution_count": 73,
   "metadata": {},
   "outputs": [
    {
     "data": {
      "text/plain": [
       "Yellow    False\n",
       "Green      True\n",
       "Blue      False\n",
       "Name: Apple, dtype: bool"
      ]
     },
     "execution_count": 73,
     "metadata": {},
     "output_type": "execute_result"
    }
   ],
   "source": [
    "# Selecting a single row by index\n",
    "# (return the row as a Series)\n",
    "df2.iloc[0]"
   ]
  },
  {
   "cell_type": "code",
   "execution_count": 74,
   "metadata": {},
   "outputs": [
    {
     "data": {
      "text/html": [
       "<div>\n",
       "<style scoped>\n",
       "    .dataframe tbody tr th:only-of-type {\n",
       "        vertical-align: middle;\n",
       "    }\n",
       "\n",
       "    .dataframe tbody tr th {\n",
       "        vertical-align: top;\n",
       "    }\n",
       "\n",
       "    .dataframe thead th {\n",
       "        text-align: right;\n",
       "    }\n",
       "</style>\n",
       "<table border=\"1\" class=\"dataframe\">\n",
       "  <thead>\n",
       "    <tr style=\"text-align: right;\">\n",
       "      <th></th>\n",
       "      <th>Yellow</th>\n",
       "      <th>Green</th>\n",
       "      <th>Blue</th>\n",
       "    </tr>\n",
       "  </thead>\n",
       "  <tbody>\n",
       "    <tr>\n",
       "      <th>Apple</th>\n",
       "      <td>False</td>\n",
       "      <td>True</td>\n",
       "      <td>False</td>\n",
       "    </tr>\n",
       "  </tbody>\n",
       "</table>\n",
       "</div>"
      ],
      "text/plain": [
       "       Yellow  Green   Blue\n",
       "Apple   False   True  False"
      ]
     },
     "execution_count": 74,
     "metadata": {},
     "output_type": "execute_result"
    }
   ],
   "source": [
    "# Selecting a single row by index\n",
    "# (return the row as a DataFrame)\n",
    "df2.iloc[[0]]"
   ]
  },
  {
   "cell_type": "code",
   "execution_count": 75,
   "metadata": {},
   "outputs": [
    {
     "data": {
      "text/html": [
       "<div>\n",
       "<style scoped>\n",
       "    .dataframe tbody tr th:only-of-type {\n",
       "        vertical-align: middle;\n",
       "    }\n",
       "\n",
       "    .dataframe tbody tr th {\n",
       "        vertical-align: top;\n",
       "    }\n",
       "\n",
       "    .dataframe thead th {\n",
       "        text-align: right;\n",
       "    }\n",
       "</style>\n",
       "<table border=\"1\" class=\"dataframe\">\n",
       "  <thead>\n",
       "    <tr style=\"text-align: right;\">\n",
       "      <th></th>\n",
       "      <th>Yellow</th>\n",
       "      <th>Green</th>\n",
       "      <th>Blue</th>\n",
       "    </tr>\n",
       "  </thead>\n",
       "  <tbody>\n",
       "    <tr>\n",
       "      <th>Avocado</th>\n",
       "      <td>False</td>\n",
       "      <td>True</td>\n",
       "      <td>False</td>\n",
       "    </tr>\n",
       "    <tr>\n",
       "      <th>Orange</th>\n",
       "      <td>True</td>\n",
       "      <td>True</td>\n",
       "      <td>False</td>\n",
       "    </tr>\n",
       "  </tbody>\n",
       "</table>\n",
       "</div>"
      ],
      "text/plain": [
       "         Yellow  Green   Blue\n",
       "Avocado   False   True  False\n",
       "Orange     True   True  False"
      ]
     },
     "execution_count": 75,
     "metadata": {},
     "output_type": "execute_result"
    }
   ],
   "source": [
    "# Selecting multiple rows by index\n",
    "df2.iloc[[1, 2]]"
   ]
  },
  {
   "cell_type": "code",
   "execution_count": 76,
   "metadata": {},
   "outputs": [
    {
     "data": {
      "text/html": [
       "<div>\n",
       "<style scoped>\n",
       "    .dataframe tbody tr th:only-of-type {\n",
       "        vertical-align: middle;\n",
       "    }\n",
       "\n",
       "    .dataframe tbody tr th {\n",
       "        vertical-align: top;\n",
       "    }\n",
       "\n",
       "    .dataframe thead th {\n",
       "        text-align: right;\n",
       "    }\n",
       "</style>\n",
       "<table border=\"1\" class=\"dataframe\">\n",
       "  <thead>\n",
       "    <tr style=\"text-align: right;\">\n",
       "      <th></th>\n",
       "      <th>Yellow</th>\n",
       "      <th>Green</th>\n",
       "      <th>Blue</th>\n",
       "    </tr>\n",
       "  </thead>\n",
       "  <tbody>\n",
       "    <tr>\n",
       "      <th>Avocado</th>\n",
       "      <td>False</td>\n",
       "      <td>True</td>\n",
       "      <td>False</td>\n",
       "    </tr>\n",
       "    <tr>\n",
       "      <th>Orange</th>\n",
       "      <td>True</td>\n",
       "      <td>True</td>\n",
       "      <td>False</td>\n",
       "    </tr>\n",
       "  </tbody>\n",
       "</table>\n",
       "</div>"
      ],
      "text/plain": [
       "         Yellow  Green   Blue\n",
       "Avocado   False   True  False\n",
       "Orange     True   True  False"
      ]
     },
     "execution_count": 76,
     "metadata": {},
     "output_type": "execute_result"
    }
   ],
   "source": [
    "# Selecting multiple rows by index\n",
    "df2.iloc[1:3]"
   ]
  },
  {
   "cell_type": "code",
   "execution_count": 77,
   "metadata": {},
   "outputs": [
    {
     "data": {
      "text/plain": [
       "Apple      False\n",
       "Avocado    False\n",
       "Orange     False\n",
       "Mango      False\n",
       "Name: Blue, dtype: bool"
      ]
     },
     "execution_count": 77,
     "metadata": {},
     "output_type": "execute_result"
    }
   ],
   "source": [
    "# Selecting a single column by index\n",
    "df2.iloc[:, -1]"
   ]
  },
  {
   "cell_type": "code",
   "execution_count": 78,
   "metadata": {},
   "outputs": [
    {
     "data": {
      "text/html": [
       "<div>\n",
       "<style scoped>\n",
       "    .dataframe tbody tr th:only-of-type {\n",
       "        vertical-align: middle;\n",
       "    }\n",
       "\n",
       "    .dataframe tbody tr th {\n",
       "        vertical-align: top;\n",
       "    }\n",
       "\n",
       "    .dataframe thead th {\n",
       "        text-align: right;\n",
       "    }\n",
       "</style>\n",
       "<table border=\"1\" class=\"dataframe\">\n",
       "  <thead>\n",
       "    <tr style=\"text-align: right;\">\n",
       "      <th></th>\n",
       "      <th>Yellow</th>\n",
       "    </tr>\n",
       "  </thead>\n",
       "  <tbody>\n",
       "    <tr>\n",
       "      <th>Apple</th>\n",
       "      <td>False</td>\n",
       "    </tr>\n",
       "    <tr>\n",
       "      <th>Avocado</th>\n",
       "      <td>False</td>\n",
       "    </tr>\n",
       "    <tr>\n",
       "      <th>Orange</th>\n",
       "      <td>True</td>\n",
       "    </tr>\n",
       "    <tr>\n",
       "      <th>Mango</th>\n",
       "      <td>True</td>\n",
       "    </tr>\n",
       "  </tbody>\n",
       "</table>\n",
       "</div>"
      ],
      "text/plain": [
       "         Yellow\n",
       "Apple     False\n",
       "Avocado   False\n",
       "Orange     True\n",
       "Mango      True"
      ]
     },
     "execution_count": 78,
     "metadata": {},
     "output_type": "execute_result"
    }
   ],
   "source": [
    "# Selecting a multiple columns by index\n",
    "df2.iloc[:, 0:1]"
   ]
  },
  {
   "cell_type": "code",
   "execution_count": 79,
   "metadata": {},
   "outputs": [
    {
     "data": {
      "text/html": [
       "<div>\n",
       "<style scoped>\n",
       "    .dataframe tbody tr th:only-of-type {\n",
       "        vertical-align: middle;\n",
       "    }\n",
       "\n",
       "    .dataframe tbody tr th {\n",
       "        vertical-align: top;\n",
       "    }\n",
       "\n",
       "    .dataframe thead th {\n",
       "        text-align: right;\n",
       "    }\n",
       "</style>\n",
       "<table border=\"1\" class=\"dataframe\">\n",
       "  <thead>\n",
       "    <tr style=\"text-align: right;\">\n",
       "      <th></th>\n",
       "      <th>Blue</th>\n",
       "      <th>Yellow</th>\n",
       "    </tr>\n",
       "  </thead>\n",
       "  <tbody>\n",
       "    <tr>\n",
       "      <th>Apple</th>\n",
       "      <td>False</td>\n",
       "      <td>False</td>\n",
       "    </tr>\n",
       "    <tr>\n",
       "      <th>Avocado</th>\n",
       "      <td>False</td>\n",
       "      <td>False</td>\n",
       "    </tr>\n",
       "    <tr>\n",
       "      <th>Orange</th>\n",
       "      <td>False</td>\n",
       "      <td>True</td>\n",
       "    </tr>\n",
       "    <tr>\n",
       "      <th>Mango</th>\n",
       "      <td>False</td>\n",
       "      <td>True</td>\n",
       "    </tr>\n",
       "  </tbody>\n",
       "</table>\n",
       "</div>"
      ],
      "text/plain": [
       "          Blue  Yellow\n",
       "Apple    False   False\n",
       "Avocado  False   False\n",
       "Orange   False    True\n",
       "Mango    False    True"
      ]
     },
     "execution_count": 79,
     "metadata": {},
     "output_type": "execute_result"
    }
   ],
   "source": [
    "# Selecting a multiple columns by index\n",
    "df2.iloc[:, [2, 0]]"
   ]
  },
  {
   "cell_type": "code",
   "execution_count": 80,
   "metadata": {},
   "outputs": [
    {
     "data": {
      "text/plain": [
       "False"
      ]
     },
     "execution_count": 80,
     "metadata": {},
     "output_type": "execute_result"
    }
   ],
   "source": [
    "# Single label for row and column\n",
    "df2.iloc[0, 0]"
   ]
  },
  {
   "cell_type": "code",
   "execution_count": 81,
   "metadata": {},
   "outputs": [
    {
     "data": {
      "text/plain": [
       "Mango    False\n",
       "Apple    False\n",
       "Name: Blue, dtype: bool"
      ]
     },
     "execution_count": 81,
     "metadata": {},
     "output_type": "execute_result"
    }
   ],
   "source": [
    "# Selecting multiple rows and columns by labels\n",
    "df2.iloc[[-1, 0], 2]"
   ]
  },
  {
   "cell_type": "code",
   "execution_count": 82,
   "metadata": {},
   "outputs": [
    {
     "data": {
      "text/html": [
       "<div>\n",
       "<style scoped>\n",
       "    .dataframe tbody tr th:only-of-type {\n",
       "        vertical-align: middle;\n",
       "    }\n",
       "\n",
       "    .dataframe tbody tr th {\n",
       "        vertical-align: top;\n",
       "    }\n",
       "\n",
       "    .dataframe thead th {\n",
       "        text-align: right;\n",
       "    }\n",
       "</style>\n",
       "<table border=\"1\" class=\"dataframe\">\n",
       "  <thead>\n",
       "    <tr style=\"text-align: right;\">\n",
       "      <th></th>\n",
       "      <th>Blue</th>\n",
       "      <th>Yellow</th>\n",
       "    </tr>\n",
       "  </thead>\n",
       "  <tbody>\n",
       "    <tr>\n",
       "      <th>Mango</th>\n",
       "      <td>False</td>\n",
       "      <td>True</td>\n",
       "    </tr>\n",
       "    <tr>\n",
       "      <th>Avocado</th>\n",
       "      <td>False</td>\n",
       "      <td>False</td>\n",
       "    </tr>\n",
       "  </tbody>\n",
       "</table>\n",
       "</div>"
      ],
      "text/plain": [
       "          Blue  Yellow\n",
       "Mango    False    True\n",
       "Avocado  False   False"
      ]
     },
     "execution_count": 82,
     "metadata": {},
     "output_type": "execute_result"
    }
   ],
   "source": [
    "# Selecting multiple rows and columns by labels\n",
    "df2.iloc[[3, 1], [-1, 0]]"
   ]
  },
  {
   "cell_type": "code",
   "execution_count": 83,
   "metadata": {},
   "outputs": [
    {
     "data": {
      "text/plain": [
       "Blue    False\n",
       "Name: Orange, dtype: bool"
      ]
     },
     "execution_count": 83,
     "metadata": {},
     "output_type": "execute_result"
    }
   ],
   "source": [
    "# Selecting using boolean indexing\n",
    "df2.iloc[2, [False, False, True]]"
   ]
  }
 ],
 "metadata": {
  "kernelspec": {
   "display_name": "Python 3",
   "language": "python",
   "name": "python3"
  },
  "language_info": {
   "codemirror_mode": {
    "name": "ipython",
    "version": 3
   },
   "file_extension": ".py",
   "mimetype": "text/x-python",
   "name": "python",
   "nbconvert_exporter": "python",
   "pygments_lexer": "ipython3",
   "version": "3.12.5"
  }
 },
 "nbformat": 4,
 "nbformat_minor": 2
}
